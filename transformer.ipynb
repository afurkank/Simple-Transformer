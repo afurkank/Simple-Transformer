{
  "cells": [
    {
      "cell_type": "code",
      "execution_count": 1,
      "metadata": {
        "id": "pWSq1ZN0MjIf"
      },
      "outputs": [],
      "source": [
        "'''\n",
        "pip install tokenizers\n",
        "pip install torchdata\n",
        "'''\n",
        "import torch\n",
        "import torch.nn as nn\n",
        "import torch.nn.functional as F\n",
        "import torch.optim as optim\n",
        "import matplotlib.pyplot as plt\n",
        "import numpy as np\n",
        "import math\n",
        "\n",
        "from typing import Tuple\n",
        "from torch import Tensor\n",
        "from torchtext.datasets import Multi30k\n",
        "from torch.utils.data import DataLoader\n",
        "from tokenizers import Tokenizer\n",
        "from tokenizers.models import BPE\n",
        "from tokenizers.trainers import BpeTrainer\n",
        "from tokenizers.pre_tokenizers import Whitespace\n",
        "from tokenizers.processors import TemplateProcessing\n",
        "from copy import deepcopy"
      ]
    },
    {
      "cell_type": "code",
      "execution_count": null,
      "metadata": {
        "colab": {
          "base_uri": "https://localhost:8080/"
        },
        "id": "M1dD0NMEMjIh",
        "outputId": "73c3624b-d5ce-4af0-8c2f-efc037d72717"
      },
      "outputs": [],
      "source": [
        "device = torch.device(\"cuda:0\" if torch.cuda.is_available() else \"cpu\")\n",
        "print(device)\n",
        "if torch.cuda.is_available():\n",
        "    print(torch.cuda.get_device_name(0))"
      ]
    },
    {
      "cell_type": "code",
      "execution_count": 3,
      "metadata": {
        "id": "l7QQ1zDWMjIj"
      },
      "outputs": [],
      "source": [
        "SRC_LANGUAGE = 'de'\n",
        "TGT_LANGUAGE = 'en'\n",
        "\n",
        "train_iter = Multi30k(split='train', language_pair=(SRC_LANGUAGE, TGT_LANGUAGE))\n",
        "\n",
        "f = open(\"parallelcorpus.txt\", \"a\")\n",
        "\n",
        "for i in train_iter:\n",
        "  for x in [x.rstrip(\"\\n\") for x in i]:\n",
        "    f.write(x)\n",
        "    f.write(' ')\n",
        "\n",
        "f.close()"
      ]
    },
    {
      "cell_type": "code",
      "execution_count": 4,
      "metadata": {
        "id": "AO-nW7opMjIk"
      },
      "outputs": [],
      "source": [
        "MAX_LEN = 64\n",
        "VOCAB_SIZE = 32768\n",
        "UNK_IDX, PAD_IDX, BOS_IDX, EOS_IDX = 0, 1, 2, 3\n",
        "BATCH_SIZE = 32\n",
        "\n",
        "tokenizer = Tokenizer(BPE(unk_token=\"[UNK]\"))\n",
        "trainer = BpeTrainer(vocab_size=VOCAB_SIZE, special_tokens=[\"[UNK]\", \"[PAD]\", \"[BOS]\", \"[EOS]\"])\n",
        "tokenizer.pre_tokenizer = Whitespace()\n",
        "tokenizer.train(['parallelcorpus.txt'], trainer)\n",
        "\n",
        "tokenizer.enable_padding(pad_id=1, length=MAX_LEN)\n",
        "tokenizer.post_processor = TemplateProcessing(\n",
        "    single=\"[BOS] $A [EOS]\",\n",
        "    special_tokens=[\n",
        "        (\"[BOS]\", tokenizer.token_to_id(\"[BOS]\")),\n",
        "        (\"[EOS]\", tokenizer.token_to_id(\"[EOS]\")),\n",
        "    ],\n",
        ")\n",
        "\n",
        "def collate_fn(batch):\n",
        "    src_batch, tgt_batch = [], []\n",
        "    for src_sample, tgt_sample in batch:\n",
        "        src_enc = tokenizer.encode(src_sample.rstrip(\"\\n\"))\n",
        "        src_batch.append(torch.tensor(src_enc.ids))\n",
        "\n",
        "        tgt_enc = tokenizer.encode(tgt_sample.rstrip(\"\\n\"))\n",
        "        tgt_batch.append(torch.tensor(tgt_enc.ids))\n",
        "    return torch.stack(src_batch), torch.stack(tgt_batch)"
      ]
    },
    {
      "cell_type": "code",
      "execution_count": 5,
      "metadata": {
        "id": "JUJ3J_o1MjIl"
      },
      "outputs": [],
      "source": [
        "test_iter = Multi30k(split='valid', language_pair=(SRC_LANGUAGE, TGT_LANGUAGE))\n",
        "train_dataloader = DataLoader(train_iter, batch_size=BATCH_SIZE, collate_fn=collate_fn, drop_last=True)\n",
        "test_dataloader = DataLoader(test_iter, batch_size=BATCH_SIZE, collate_fn=collate_fn, drop_last=True)"
      ]
    },
    {
      "cell_type": "code",
      "execution_count": 6,
      "metadata": {
        "id": "W3rOmg4YMjIl"
      },
      "outputs": [],
      "source": [
        "class Embedding(nn.Module):\n",
        "    def __init__(self, vocab_size=32678, d_model=512, pad_mask=1):\n",
        "        super(Embedding, self).__init__()\n",
        "        self.d_model = d_model\n",
        "        self.emb = nn.Embedding(num_embeddings=vocab_size, embedding_dim=d_model, padding_idx=pad_mask)\n",
        "\n",
        "    def forward(self, x):\n",
        "        #x = x.to(device)\n",
        "        return self.emb(x) * math.sqrt(self.d_model)"
      ]
    },
    {
      "cell_type": "code",
      "execution_count": 7,
      "metadata": {
        "id": "XuvYlXDuMjIm"
      },
      "outputs": [],
      "source": [
        "class EncoderLayer(nn.Module):\n",
        "    def __init__(self, d_model=512, d_ff=2048, d_h=8, dropout=0.1):\n",
        "        super(EncoderLayer, self).__init__()\n",
        "        self.d_model = d_model\n",
        "        self.d_h = d_h\n",
        "        self.d_ff = d_ff\n",
        "        self.d_k = self.d_v = int(d_model / d_h)\n",
        "        self.dropout = nn.Dropout(dropout)\n",
        "        self.Linear = nn.Linear(d_model, d_model) # Linear Layer for the concatenated head\n",
        "        self.normalize = nn.LayerNorm(d_model) # Normalizing Layer\n",
        "        self.feed_forward = nn.Sequential( # Feed Forward Layer\n",
        "            nn.Linear(d_model, d_ff),\n",
        "            nn.ReLU(),\n",
        "            nn.Linear(d_ff, d_model)\n",
        "        )\n",
        "        self.linears = nn.ModuleList([nn.Linear(d_model, self.d_k) for _ in range(d_h*3)])\n",
        "\n",
        "    def forward(self, x):\n",
        "        heads = []\n",
        "        for i in range(self.d_h):\n",
        "            Q = self.linears[3*i](x) # Query Matrix\n",
        "            K = self.linears[3*i + 1](x) # Key Matrix\n",
        "            V = self.linears[3*i + 2](x) # Value Matrix\n",
        "            scaledMatMul = Q @ K.transpose(-1, -2) / math.sqrt(self.d_k) # Matrix mul. of Q and K.T -> Scale\n",
        "            head = F.softmax(scaledMatMul, dim=-1) @ V # Softmax\n",
        "            heads.append(head) # A Single Head\n",
        "        Z = self.Linear(torch.cat((heads), -1)) # Concatenated heads -> Linear Layer\n",
        "        Z = self.normalize(x + self.dropout(Z)) # Output of the First Add&Norm Layer\n",
        "        Z = self.normalize(self.feed_forward(Z) + Z) # 1st Add&Norm -> Feed Forward -> 2nd Add&Norm\n",
        "        return Z"
      ]
    },
    {
      "cell_type": "code",
      "execution_count": 8,
      "metadata": {
        "id": "cfHw7_VuMjIn"
      },
      "outputs": [],
      "source": [
        "class EncoderStack(nn.Module):\n",
        "    def __init__(self, d_model=512, d_ff=2048, d_h=8, dropout=0.1, N=6):\n",
        "        super(EncoderStack, self).__init__()\n",
        "        self.encoders = nn.ModuleList([EncoderLayer(d_model, d_ff, d_h, dropout) for _ in range(N)]) # Stacking Encoder Layer N Times\n",
        "\n",
        "    def forward(self, x):\n",
        "        for encoder in self.encoders:\n",
        "            x = encoder(x)\n",
        "        return x"
      ]
    },
    {
      "cell_type": "code",
      "execution_count": 9,
      "metadata": {
        "id": "gaZLO3lsMjIn"
      },
      "outputs": [],
      "source": [
        "class DecoderLayer(nn.Module):\n",
        "    def __init__(self, d_model=512, d_ff=2048, d_h=8, dropout=0.1):\n",
        "        super(DecoderLayer, self).__init__()\n",
        "        self.d_model = d_model\n",
        "        self.d_h = d_h\n",
        "        self.d_k = self.d_v = int(self.d_model / self.d_h)\n",
        "        self.linears = nn.ModuleList([nn.Linear(d_model, self.d_k) for _ in range(d_h*3)]) # linear layers\n",
        "        self.firstLinear = nn.Linear(d_h * self.d_v, d_model) # linear layer for the concatenated head\n",
        "        self.secondLinear = nn.Linear(d_h * self.d_model, d_model) # linear layer for the concatenated head(second multi-head attention)\n",
        "        self.normalize = nn.LayerNorm(d_model)\n",
        "        self.feed_forward = nn.Sequential( # Feed Forward Layer\n",
        "            nn.Linear(d_model, d_ff),\n",
        "            nn.ReLU(),\n",
        "            nn.Linear(d_ff, d_model)\n",
        "        )\n",
        "        self.dropout = nn.Dropout(dropout)\n",
        "\n",
        "    def forward(self, x, y, y_mask=None):\n",
        "        heads1 = []\n",
        "        heads2 = []\n",
        "\n",
        "        # FIRST ATTENTION LAYER\n",
        "        ''' Same as encoder, but here we have tgt(target) as the decoder's input '''\n",
        "        for i in range(self.d_h):\n",
        "            Q = self.linears[3*i](y) # Query Matrix\n",
        "            K = self.linears[3*i+1](y) # Key Matrix\n",
        "            V = self.linears[3*i+2](y) # Value Matrix\n",
        "            scaledMat = Q @ K.transpose(-1, -2) / math.sqrt(self.d_k) # Matrix mul. of Q and K.T -> Scale\n",
        "            if y_mask is not None:\n",
        "                scaledMat = scaledMat.masked_fill(y_mask==0, -np.inf)\n",
        "            soft = F.softmax(scaledMat, dim=-1) # Softmax\n",
        "            head =  soft @ V\n",
        "            heads1.append(head) # Appending a single head\n",
        "        Z1 = self.firstLinear(torch.cat((heads1), dim=-1)) # Concatenated heads of the First Attention Layer\n",
        "        Z1 = self.normalize(y + self.dropout(Z1)) # First Normalizing Layer\n",
        "\n",
        "        # SECOND ATTENTION LAYER\n",
        "        ''' Attention layer, instead of V and K matrices, we use the output of the encoder '''\n",
        "        for i in range(self.d_h):\n",
        "            scaledMat = Z1 @ x.transpose(-1, -2) / math.sqrt(self.d_k) # Matrix mul. of Q and encoderOutput.T -> Scale\n",
        "            soft = F.softmax(scaledMat, dim=-1) # Softmax\n",
        "            head = soft @ x\n",
        "            heads2.append(head) # Appending a single head\n",
        "        Z2 = self.secondLinear(torch.cat((heads2), dim=-1)) # Concatenated heads of the Second Attention Layer\n",
        "        Z2 = self.normalize(Z1 + Z2) # Second Normalizing Layer\n",
        "        Z2 = self.normalize(self.feed_forward(Z2) + Z2) # Feed Forward -> Normalize\n",
        "        Z2 = self.dropout(Z2)\n",
        "        return Z2"
      ]
    },
    {
      "cell_type": "code",
      "execution_count": 10,
      "metadata": {
        "id": "NFSeeoKTMjIo"
      },
      "outputs": [],
      "source": [
        "class DecoderStack(nn.Module):\n",
        "    def __init__(self, d_model=512, d_ff=2048, d_h=8, dropout=0.1, N=6):\n",
        "        super(DecoderStack, self).__init__()\n",
        "        self.decoders = nn.ModuleList([DecoderLayer(d_model, d_ff, d_h, dropout) for _ in range(N)]) # Stacking Decoder Layer N Times\n",
        "\n",
        "    def forward(self, x, y, y_mask):\n",
        "        for decoder in self.decoders:\n",
        "            y = decoder(x, y, y_mask)\n",
        "        return y"
      ]
    },
    {
      "cell_type": "code",
      "execution_count": 11,
      "metadata": {
        "id": "Tx4vpT4725w3"
      },
      "outputs": [],
      "source": [
        "class Mask(nn.Module):\n",
        "    def __init__(self):\n",
        "        super(Mask, self).__init__()\n",
        "    \n",
        "    def forward(self, batch_size, seq_len1, seq_len2):\n",
        "        mask = (torch.triu(torch.ones((batch_size, seq_len1, seq_len2), dtype=torch.int32), diagonal=1) == 0)#.to(device)\n",
        "        return mask"
      ]
    },
    {
      "cell_type": "code",
      "execution_count": 12,
      "metadata": {
        "id": "P4V-2pak25w4"
      },
      "outputs": [],
      "source": [
        "class Positional_Encoding(nn.Module):\n",
        "    def __init__(self, d_model=512, n=10000):\n",
        "        super(Positional_Encoding, self).__init__()\n",
        "        self.d_model = d_model\n",
        "        self.n = n\n",
        "    def forward(self, seq_len):\n",
        "        P = torch.zeros(seq_len, self.d_model)\n",
        "        for k in range(seq_len):\n",
        "            for i in range(self.d_model // 2):\n",
        "                denominator = math.pow(self.n, 2*i/self.d_model)\n",
        "                P[k, 2*i] = math.sin(k/denominator)\n",
        "                P[k, 2*i+1] = math.cos(k/denominator)\n",
        "        #P = P.to(device)\n",
        "        return P"
      ]
    },
    {
      "cell_type": "code",
      "execution_count": 13,
      "metadata": {
        "id": "Eejkpbku25wz"
      },
      "outputs": [],
      "source": [
        "class ModelOutput(nn.Module):\n",
        "    def __init__(self, d_model, vocab_size):\n",
        "        super(ModelOutput, self).__init__()\n",
        "        self.linear = nn.Linear(d_model, vocab_size)\n",
        "    def forward(self, x):\n",
        "        return F.log_softmax(self.linear(x), dim=-1)"
      ]
    },
    {
      "cell_type": "code",
      "execution_count": 14,
      "metadata": {
        "id": "lsNHTQTPMjIo"
      },
      "outputs": [],
      "source": [
        "class Transformer(nn.Module):\n",
        "    def __init__(self, d_model=512, d_h = 8, d_ff=2048, vocab_size=32768, dropout=0.1, num_coder_layers=6):\n",
        "        super(Transformer, self).__init__()\n",
        "        self.d_model = d_model\n",
        "        self.d_h = d_h\n",
        "        self.linear = nn.Linear(d_model, vocab_size)\n",
        "        self.generateProbs = ModelOutput(d_model, vocab_size)\n",
        "        self.dropoutEnc = nn.Dropout(dropout)\n",
        "        self.dropoutDec = nn.Dropout(dropout)\n",
        "        self.embed = Embedding(vocab_size, d_model, pad_mask=1)\n",
        "        self.positional = Positional_Encoding(self.d_model, 10000)\n",
        "        self.masking = Mask()\n",
        "        self.encoderStack = EncoderStack(d_model, d_ff, d_h, dropout, num_coder_layers)\n",
        "        self.decoderStack = DecoderStack(d_model, d_ff, d_h, dropout, num_coder_layers)\n",
        "\n",
        "    def forward(self, x: Tensor, y: Tensor):\n",
        "        assert x.shape[0] == y.shape[0]\n",
        "        batch_dim = x.shape[0]\n",
        "        assert x.shape[1] == y.shape[1]\n",
        "        seq_len = x.shape[1]\n",
        "\n",
        "        y_mask = self.masking(batch_dim, seq_len, seq_len)\n",
        "\n",
        "        x, y = self.embed(x), self.embed(y)\n",
        "\n",
        "        pos_encoding = self.positional(seq_len)\n",
        "\n",
        "        x = pos_encoding + x\n",
        "        y = pos_encoding + y\n",
        "\n",
        "        x, y = self.dropoutEnc(x), self.dropoutDec(y)\n",
        "\n",
        "        encoderOutput = self.encoderStack(x)\n",
        "\n",
        "        decoderOutput = self.decoderStack(encoderOutput, y, y_mask)\n",
        "\n",
        "        probs = self.generateProbs(decoderOutput)\n",
        "\n",
        "        return probs"
      ]
    },
    {
      "cell_type": "code",
      "execution_count": 15,
      "metadata": {
        "id": "n5c2hP21MjIp"
      },
      "outputs": [],
      "source": [
        "model = Transformer(d_model=512, d_h=8, d_ff=2048, vocab_size=VOCAB_SIZE, dropout=0.1, num_coder_layers=6)#.to(device)"
      ]
    },
    {
      "cell_type": "code",
      "execution_count": 18,
      "metadata": {
        "id": "3OfIu8IFjmbt"
      },
      "outputs": [],
      "source": [
        "def train_and_eval(model: nn.Module, train_data: DataLoader, test_data: DataLoader, learning_rate: int, padding_idx: int, epoch_num: int):\n",
        "\n",
        "    criterion = nn.NLLLoss(ignore_index=padding_idx)\n",
        "    optimizer = optim.SGD(model.parameters(), lr=learning_rate, momentum=0.9)\n",
        "    graph_x_loss = []\n",
        "    graph_y_loss = []\n",
        "    graph_x_acc = []\n",
        "    graph_y_acc = []\n",
        "\n",
        "    for epoch in range(1, epoch_num+1):\n",
        "\n",
        "        #decayed_lr = (1 / (1 + decay_rate*(epoch-1))) * learning_rate\n",
        "        #optimizer = optim.SGD(model.parameters(), lr=decayed_lr, momentum=0.9)\n",
        "\n",
        "        print(\"#\"*67)\n",
        "        print(f'{\"#\"*20}Training begins for epoc {epoch:>2}{\"#\"*20}')\n",
        "        print(\"#\"*67)\n",
        "\n",
        "        loss_arr = []\n",
        "        for i, (src, tgt) in enumerate(train_data):\n",
        "            src, tgt = src.to(device), tgt.to(device)\n",
        "            optimizer.zero_grad()\n",
        "            probs = model(src, tgt).permute(0, 2, 1)\n",
        "            loss = criterion(probs, tgt)\n",
        "            loss_arr.append(loss.item())\n",
        "            loss.backward()\n",
        "            optimizer.step()\n",
        "        avg_loss = np.average(loss_arr)\n",
        "        graph_x_loss.append(epoch)\n",
        "        graph_y_loss.append(avg_loss)\n",
        "        print(f'Training is complete for epoch {epoch:>2}, average loss for epoch {epoch:>2}: {avg_loss:>5.3f}')\n",
        "        print(\"-\"*67)\n",
        "\n",
        "        acc_per_batch=0\n",
        "        test_data_size=0\n",
        "        for src_test, tgt_test in test_data:\n",
        "            test_data_size+=1\n",
        "            src_test, tgt_test = src_test.to(device), tgt_test.to(device)\n",
        "            probs = model(src_test, tgt_test)\n",
        "            pred = torch.argmax(probs, dim=2)\n",
        "            pred_arr = pred.cpu().numpy()\n",
        "            tgt_test_arr = tgt_test.cpu().numpy()\n",
        "            similar_idx_ratio=0\n",
        "            batch_size = tgt_test.shape[0]\n",
        "\n",
        "            for i in range(batch_size):\n",
        "                    \n",
        "                pad_idx_count = np.sum(tgt_test_arr[i] == 1)\n",
        "                sentence_len = tgt.shape[1] - pad_idx_count\n",
        "                similar_idx_ratio += np.sum(pred_arr[i][:sentence_len]==tgt_test_arr[i][:sentence_len]) / sentence_len\n",
        "        \n",
        "            average_similar_idx = similar_idx_ratio / batch_size\n",
        "            acc_per_batch += average_similar_idx\n",
        "    \n",
        "        total_acc = (acc_per_batch / test_data_size)*100\n",
        "        graph_x_acc.append(epoch)\n",
        "        graph_y_acc.append(total_acc)\n",
        "        print(f'Accuracy is {total_acc:>5.2f} % for epoch {epoch:>2}')\n",
        "        print(\"\\n\")\n",
        "    \n",
        "    print(\"Loss graph: \")\n",
        "    plt.plot(graph_x_loss, graph_y_loss, color='blue')\n",
        "    plt.title(\"Loss Graph\")\n",
        "    plt.xlabel(\"Number of Epochs\")\n",
        "    plt.ylabel(\"Avg Loss per Epoch\")\n",
        "    plt.show()\n",
        "\n",
        "    print(\"\\n\")\n",
        "\n",
        "    print(\"Accuracy Graph: \")\n",
        "    plt.plot(graph_x_acc, graph_y_acc, color='green')\n",
        "    plt.title(\"Accuracy Graph\")\n",
        "    plt.xlabel(\"Number of Epochs\")\n",
        "    plt.ylabel(\"Accuracy per Epoch\")\n",
        "    plt.show"
      ]
    },
    {
      "cell_type": "code",
      "execution_count": 19,
      "metadata": {
        "colab": {
          "base_uri": "https://localhost:8080/",
          "height": 1000
        },
        "id": "G4BdsVrXppFm",
        "outputId": "686c0250-2f43-428a-ab06-4925326bbbb3"
      },
      "outputs": [
        {
          "name": "stdout",
          "output_type": "stream",
          "text": [
            "###################################################################\n",
            "####################Training begins for epoc  1####################\n",
            "###################################################################\n",
            "Training is complete for epoch  1, average loss for epoch  1: 4.254\n",
            "-------------------------------------------------------------------\n",
            "Accuracy is 66.39 % for epoch  1\n",
            "\n",
            "\n",
            "###################################################################\n",
            "####################Training begins for epoc  2####################\n",
            "###################################################################\n",
            "Training is complete for epoch  2, average loss for epoch  2: 2.771\n",
            "-------------------------------------------------------------------\n",
            "Accuracy is 74.42 % for epoch  2\n",
            "\n",
            "\n",
            "###################################################################\n",
            "####################Training begins for epoc  3####################\n",
            "###################################################################\n",
            "Training is complete for epoch  3, average loss for epoch  3: 2.250\n",
            "-------------------------------------------------------------------\n",
            "Accuracy is 78.93 % for epoch  3\n",
            "\n",
            "\n",
            "###################################################################\n",
            "####################Training begins for epoc  4####################\n",
            "###################################################################\n",
            "Training is complete for epoch  4, average loss for epoch  4: 1.934\n",
            "-------------------------------------------------------------------\n",
            "Accuracy is 81.59 % for epoch  4\n",
            "\n",
            "\n",
            "###################################################################\n",
            "####################Training begins for epoc  5####################\n",
            "###################################################################\n",
            "Training is complete for epoch  5, average loss for epoch  5: 1.714\n",
            "-------------------------------------------------------------------\n",
            "Accuracy is 83.25 % for epoch  5\n",
            "\n",
            "\n",
            "###################################################################\n",
            "####################Training begins for epoc  6####################\n",
            "###################################################################\n",
            "Training is complete for epoch  6, average loss for epoch  6: 1.551\n",
            "-------------------------------------------------------------------\n",
            "Accuracy is 84.72 % for epoch  6\n",
            "\n",
            "\n",
            "###################################################################\n",
            "####################Training begins for epoc  7####################\n",
            "###################################################################\n",
            "Training is complete for epoch  7, average loss for epoch  7: 1.424\n",
            "-------------------------------------------------------------------\n",
            "Accuracy is 85.79 % for epoch  7\n",
            "\n",
            "\n",
            "###################################################################\n",
            "####################Training begins for epoc  8####################\n",
            "###################################################################\n",
            "Training is complete for epoch  8, average loss for epoch  8: 1.322\n",
            "-------------------------------------------------------------------\n",
            "Accuracy is 86.82 % for epoch  8\n",
            "\n",
            "\n",
            "###################################################################\n",
            "####################Training begins for epoc  9####################\n",
            "###################################################################\n",
            "Training is complete for epoch  9, average loss for epoch  9: 1.236\n",
            "-------------------------------------------------------------------\n",
            "Accuracy is 87.76 % for epoch  9\n",
            "\n",
            "\n",
            "###################################################################\n",
            "####################Training begins for epoc 10####################\n",
            "###################################################################\n",
            "Training is complete for epoch 10, average loss for epoch 10: 1.162\n",
            "-------------------------------------------------------------------\n",
            "Accuracy is 88.47 % for epoch 10\n",
            "\n",
            "\n",
            "###################################################################\n",
            "####################Training begins for epoc 11####################\n",
            "###################################################################\n",
            "Training is complete for epoch 11, average loss for epoch 11: 1.099\n",
            "-------------------------------------------------------------------\n",
            "Accuracy is 89.05 % for epoch 11\n",
            "\n",
            "\n",
            "###################################################################\n",
            "####################Training begins for epoc 12####################\n",
            "###################################################################\n",
            "Training is complete for epoch 12, average loss for epoch 12: 1.042\n",
            "-------------------------------------------------------------------\n",
            "Accuracy is 89.51 % for epoch 12\n",
            "\n",
            "\n",
            "###################################################################\n",
            "####################Training begins for epoc 13####################\n",
            "###################################################################\n",
            "Training is complete for epoch 13, average loss for epoch 13: 0.992\n",
            "-------------------------------------------------------------------\n",
            "Accuracy is 90.01 % for epoch 13\n",
            "\n",
            "\n",
            "###################################################################\n",
            "####################Training begins for epoc 14####################\n",
            "###################################################################\n",
            "Training is complete for epoch 14, average loss for epoch 14: 0.947\n",
            "-------------------------------------------------------------------\n",
            "Accuracy is 90.40 % for epoch 14\n",
            "\n",
            "\n",
            "###################################################################\n",
            "####################Training begins for epoc 15####################\n",
            "###################################################################\n",
            "Training is complete for epoch 15, average loss for epoch 15: 0.907\n",
            "-------------------------------------------------------------------\n",
            "Accuracy is 90.74 % for epoch 15\n",
            "\n",
            "\n",
            "###################################################################\n",
            "####################Training begins for epoc 16####################\n",
            "###################################################################\n",
            "Training is complete for epoch 16, average loss for epoch 16: 0.871\n",
            "-------------------------------------------------------------------\n",
            "Accuracy is 91.09 % for epoch 16\n",
            "\n",
            "\n",
            "###################################################################\n",
            "####################Training begins for epoc 17####################\n",
            "###################################################################\n",
            "Training is complete for epoch 17, average loss for epoch 17: 0.838\n",
            "-------------------------------------------------------------------\n",
            "Accuracy is 91.41 % for epoch 17\n",
            "\n",
            "\n",
            "###################################################################\n",
            "####################Training begins for epoc 18####################\n",
            "###################################################################\n",
            "Training is complete for epoch 18, average loss for epoch 18: 0.807\n",
            "-------------------------------------------------------------------\n",
            "Accuracy is 91.66 % for epoch 18\n",
            "\n",
            "\n",
            "###################################################################\n",
            "####################Training begins for epoc 19####################\n",
            "###################################################################\n",
            "Training is complete for epoch 19, average loss for epoch 19: 0.779\n",
            "-------------------------------------------------------------------\n",
            "Accuracy is 91.90 % for epoch 19\n",
            "\n",
            "\n",
            "###################################################################\n",
            "####################Training begins for epoc 20####################\n",
            "###################################################################\n",
            "Training is complete for epoch 20, average loss for epoch 20: 0.753\n",
            "-------------------------------------------------------------------\n",
            "Accuracy is 92.22 % for epoch 20\n",
            "\n",
            "\n",
            "Loss graph: \n"
          ]
        },
        {
          "data": {
            "image/png": "[encoded data removed]",
            "text/plain": [
              "<Figure size 432x288 with 1 Axes>"
            ]
          },
          "metadata": {
            "needs_background": "light"
          },
          "output_type": "display_data"
        },
        {
          "name": "stdout",
          "output_type": "stream",
          "text": [
            "\n",
            "\n",
            "Accuracy Graph: \n"
          ]
        },
        {
          "data": {
            "image/png": "[encoded data removed]",
            "text/plain": [
              "<Figure size 432x288 with 1 Axes>"
            ]
          },
          "metadata": {
            "needs_background": "light"
          },
          "output_type": "display_data"
        }
      ],
      "source": [
        "train_and_eval(model, train_dataloader, test_dataloader, learning_rate=0.001, padding_idx=PAD_IDX, epoch_num=20)"
      ]
    },
    {
      "cell_type": "code",
      "execution_count": 21,
      "metadata": {
        "id": "hvc3_CKWi5hJ"
      },
      "outputs": [],
      "source": [
        "torch.save(model.state_dict(), \"modelparams.pth\")\n",
        "torch.save(model, \"model.pth\")"
      ]
    },
    {
      "cell_type": "code",
      "execution_count": null,
      "metadata": {
        "colab": {
          "base_uri": "https://localhost:8080/"
        },
        "id": "-iivYZU-Zh_R",
        "outputId": "6fffa1e1-4184-435d-a5c8-223c7f17784b"
      },
      "outputs": [],
      "source": [
        "model.load_state_dict(torch.load(map_location=torch.device('cpu'), f=\"modelparams.pth\"))\n",
        "model.eval()"
      ]
    },
    {
      "cell_type": "code",
      "execution_count": 26,
      "metadata": {
        "id": "YPgMJ93d25w7"
      },
      "outputs": [],
      "source": [
        "def translate(model: nn.Module, source: Tensor, start_token: int, stop_token: int, seq_len: int):\n",
        "    src_pos_enc = model.positional(source.shape[1]).unsqueeze(0)\n",
        "    src_embedding = model.embed(source)\n",
        "    encoderInput = src_embedding + src_pos_enc\n",
        "\n",
        "    encoderOutput = model.encoderStack(encoderInput)\n",
        "    sequence = torch.tensor([[start_token]], dtype=torch.int32)\n",
        "    \n",
        "    for _ in range(seq_len):\n",
        "        \n",
        "        embedded_sequence = model.embed(sequence)\n",
        "        seq_pos_enc = model.positional(sequence.shape[1]).unsqueeze(0)\n",
        "        decoderInput = embedded_sequence + seq_pos_enc\n",
        "\n",
        "        subseq_mask = (torch.triu(torch.ones((1, sequence.shape[1], sequence.shape[1]), dtype=torch.int32), diagonal=1) == 0)\n",
        "        \n",
        "        decoderOutput = model.decoderStack(encoderOutput, decoderInput, subseq_mask)\n",
        "        print(decoderOutput.shape)\n",
        "        raw_word = decoderOutput[:, -1, :]\n",
        "\n",
        "        probs = model.generateProbs(raw_word)\n",
        "        print(\"probs shape: \", probs.shape)\n",
        "        generated_word_id = torch.argmax(probs, dim=-1)\n",
        "\n",
        "        generated_word_tensor = torch.tensor([[generated_word_id]], dtype=torch.int32)\n",
        "\n",
        "        sequence = torch.cat((sequence, generated_word_tensor), dim=1)\n",
        "\n",
        "        if generated_word_id == stop_token:\n",
        "            break\n",
        "    print(sequence)\n",
        "    translation_ids = sequence.cpu().numpy()\n",
        "\n",
        "    translation = tokenizer.decode(translation_ids.squeeze())\n",
        "\n",
        "    return translation"
      ]
    },
    {
      "cell_type": "code",
      "execution_count": null,
      "metadata": {
        "colab": {
          "base_uri": "https://localhost:8080/"
        },
        "id": "Au_0waIyllF0",
        "outputId": "92a159fd-d13f-4671-f33c-dde411576384"
      },
      "outputs": [],
      "source": [
        "src, _ = next(iter(test_dataloader))\n",
        "src = src[:1]\n",
        "print(src.shape)"
      ]
    },
    {
      "cell_type": "code",
      "execution_count": null,
      "metadata": {
        "colab": {
          "base_uri": "https://localhost:8080/",
          "height": 336
        },
        "id": "CNge8nh625w8",
        "outputId": "ca1fc7ae-4896-40e5-cf6f-dabe97bfdbd4"
      },
      "outputs": [],
      "source": [
        "translation = translate(model=model, source=src, start_token=BOS_IDX, stop_token=EOS_IDX, seq_len=MAX_LEN)\n",
        "print(translation)"
      ]
    },
    {
      "cell_type": "code",
      "execution_count": null,
      "metadata": {
        "id": "KR0Q2WoxmlKJ"
      },
      "outputs": [],
      "source": [
        "encoded_german = tokenizer.encode(\"Auf der Veranda spielt ein glücklicher Hund.\")\n",
        "german_id_arr = encoded_german.ids\n",
        "\n",
        "german = torch.tensor(german_id_arr).unsqueeze(0)\n",
        "print(german)\n",
        "print(german.shape)\n",
        "\n",
        "translation = translate(model, german, 2, 3, MAX_LEN)"
      ]
    },
    {
      "cell_type": "code",
      "execution_count": 17,
      "metadata": {
        "id": "pL1Ka42zXlfq",
        "outputId": "ed6ed1d6-e93b-4c22-f132-54220da09454"
      },
      "outputs": [
        {
          "name": "stdout",
          "output_type": "stream",
          "text": [
            "torch.Size([32, 64])\n",
            "torch.Size([32, 64])\n"
          ]
        }
      ],
      "source": [
        "src, tgt = next(iter(test_dataloader))\n",
        "print(src.shape)\n",
        "print(tgt.shape)"
      ]
    },
    {
      "cell_type": "code",
      "execution_count": 18,
      "metadata": {
        "id": "WI6E17_CXlfr"
      },
      "outputs": [],
      "source": [
        "logits = model(src, tgt)\n",
        "pred = torch.argmax(logits, dim=2)"
      ]
    },
    {
      "cell_type": "code",
      "execution_count": 26,
      "metadata": {
        "id": "Rtqy9lxxXlfr",
        "outputId": "60a40bd4-0137-4b2b-bda1-426dd7d53980"
      },
      "outputs": [
        {
          "name": "stdout",
          "output_type": "stream",
          "text": [
            "Example no 0: \n",
            "################################################################################\n",
            "#German text:  Eine Gruppe von Männern lädt Baumwolle auf einen Lastwagen\n",
            "################################################################################\n",
            "#English translation:  A group of men are loading cotton onto a truck\n",
            "################################################################################\n",
            "#Model translation:  A group of men are game ladder onto a truck\n",
            "################################################################################\n",
            "\n",
            "\n",
            "Example no 1: \n",
            "################################################################################\n",
            "#German text:  Ein Mann schläft in einem grünen Raum auf einem Sofa .\n",
            "################################################################################\n",
            "#English translation:  A man sleeping in a green room on a couch .\n",
            "################################################################################\n",
            "#Model translation:  A man sleeping in a green room on a couch .\n",
            "################################################################################\n",
            "\n",
            "\n",
            "Example no 2: \n",
            "################################################################################\n",
            "#German text:  Ein Junge mit Kopfhörern sitzt auf den Schultern einer Frau .\n",
            "################################################################################\n",
            "#English translation:  A boy wearing headphones sits on a woman ' s shoulders .\n",
            "################################################################################\n",
            "#Model translation:  A boy wearing headphones sits on a woman ' s shoulders .\n",
            "################################################################################\n",
            "\n",
            "\n",
            "Example no 3: \n",
            "################################################################################\n",
            "#German text:  Zwei Männer bauen eine blaue Eis f ischer hütte auf einem zuge froren en See auf\n",
            "################################################################################\n",
            "#English translation:  Two men setting up a blue ice fishing hut on an iced over lake\n",
            "################################################################################\n",
            "#Model translation:  Two men setting up a blue ice fishing table on an race over lake\n",
            "################################################################################\n",
            "\n",
            "\n",
            "Example no 4: \n",
            "################################################################################\n",
            "#German text:  Ein Mann mit beginnender Glatze , der eine rote Rettungsweste trägt , sitzt in einem kleinen Boot .\n",
            "################################################################################\n",
            "#English translation:  A balding man wearing a red life jacket is sitting in a small boat .\n",
            "################################################################################\n",
            "#Model translation:  A balding man wearing a red life jacket is sitting in a small boat .\n",
            "################################################################################\n",
            "\n",
            "\n",
            "Example no 5: \n",
            "################################################################################\n",
            "#German text:  Eine Frau in einem rotem Mantel , die eine vermutlich aus Asien st ammen de Handtasche in einem blauen Farbton hält , springt für einen Schnappschuss in die Luft .\n",
            "################################################################################\n",
            "#English translation:  A lady in a red coat , holding a blu ish hand bag likely of asian descent , jumping off the ground for a snap shot .\n",
            "################################################################################\n",
            "#Model translation:  A lady in a red coat , holding a bags plays hand bag shorts of asian phone , jumping off the ground for a and shot .\n",
            "################################################################################\n",
            "\n",
            "\n",
            "Example no 6: \n",
            "################################################################################\n",
            "#German text:  Ein brauner Hund rennt dem schwarzen Hund hinterher .\n",
            "################################################################################\n",
            "#English translation:  A brown dog is running after the black dog .\n",
            "################################################################################\n",
            "#Model translation:  A brown dog is running after the black dog .\n",
            "################################################################################\n",
            "\n",
            "\n",
            "Example no 7: \n",
            "################################################################################\n",
            "#German text:  Ein kleiner Junge mit einem Giants - Trikot schwingt einen Baseballschläger in Richtung eines ankommenden Balls .\n",
            "################################################################################\n",
            "#English translation:  A young boy wearing a Giants jersey swings a baseball bat at an incoming pitch .\n",
            "################################################################################\n",
            "#Model translation:  A young boy wearing a against jersey swings a baseball bat at an her pitch .\n",
            "################################################################################\n",
            "\n",
            "\n",
            "Example no 8: \n",
            "################################################################################\n",
            "#German text:  Ein Mann telefoniert in einem unaufgeräumten Büro\n",
            "################################################################################\n",
            "#English translation:  A man in a cluttered office is using the telephone\n",
            "################################################################################\n",
            "#Model translation:  A man in a outside office is using the of\n",
            "################################################################################\n",
            "\n",
            "\n",
            "Example no 9: \n",
            "################################################################################\n",
            "#German text:  Eine lächelnde Frau mit einem pfirsichfarbenen Trägershirt hält ein Mountainbike\n",
            "################################################################################\n",
            "#English translation:  A smiling woman in a peach tank top stands holding a mountain bike\n",
            "################################################################################\n",
            "#Model translation:  A smiling woman in a parade tank top stands holding a mountain bike\n",
            "################################################################################\n",
            "\n",
            "\n"
          ]
        }
      ],
      "source": [
        "for example in range(10):\n",
        "    print(f\"Example no {example}: \")\n",
        "    pad_count = (tgt[example] == PAD_IDX).data.sum().item()\n",
        "    sentence_len = tgt.shape[1] - pad_count\n",
        "    print(\"#\"*80)\n",
        "    print(\"#German text: \", tokenizer.decode(src[example].cpu().numpy().squeeze()))\n",
        "    print(\"#\"*80)\n",
        "    print(\"#English translation: \", tokenizer.decode(tgt[example].cpu().numpy().squeeze()))\n",
        "    print(\"#\"*80)\n",
        "    print(\"#Model translation: \", tokenizer.decode(pred[example][:sentence_len].cpu().numpy().squeeze()))\n",
        "    print(\"#\"*80)\n",
        "    print(\"\\n\")"
      ]
    }
  ],
  "metadata": {
    "accelerator": "GPU",
    "colab": {
      "provenance": []
    },
    "gpuClass": "standard",
    "kernelspec": {
      "display_name": "base",
      "language": "python",
      "name": "python3"
    },
    "language_info": {
      "codemirror_mode": {
        "name": "ipython",
        "version": 3
      },
      "file_extension": ".py",
      "mimetype": "text/x-python",
      "name": "python",
      "nbconvert_exporter": "python",
      "pygments_lexer": "ipython3",
      "version": "3.9.13"
    },
    "orig_nbformat": 4,
    "vscode": {
      "interpreter": {
        "hash": "6fb3815109fae185a2989dc67116c03680cdd5befd2823d06e43fcf705655cc7"
      }
    }
  },
  "nbformat": 4,
  "nbformat_minor": 0
}
