{
  "cells": [
    {
      "cell_type": "code",
      "execution_count": null,
      "metadata": {
        "colab": {
          "base_uri": "https://localhost:8080/"
        },
        "id": "pWSq1ZN0MjIf",
        "outputId": "04fce3f3-f1e0-4b2a-d5a7-7f74677efe4e"
      },
      "outputs": [],
      "source": [
        "!pip install tokenizers\n",
        "!pip install torchdata\n",
        "\n",
        "import torch\n",
        "import torch.nn as nn\n",
        "import torch.nn.functional as F\n",
        "import torch.optim as optim\n",
        "import matplotlib.pyplot as plt\n",
        "import numpy as np\n",
        "import math\n",
        "\n",
        "from typing import Tuple\n",
        "from torch import Tensor\n",
        "from torchtext.datasets import Multi30k\n",
        "from torch.utils.data import DataLoader\n",
        "from tokenizers import Tokenizer\n",
        "from tokenizers.models import BPE\n",
        "from tokenizers.trainers import BpeTrainer\n",
        "from tokenizers.pre_tokenizers import Whitespace\n",
        "from tokenizers.processors import TemplateProcessing\n",
        "from copy import deepcopy"
      ]
    },
    {
      "cell_type": "code",
      "execution_count": null,
      "metadata": {
        "colab": {
          "base_uri": "https://localhost:8080/",
          "height": 35
        },
        "id": "M1dD0NMEMjIh",
        "outputId": "d70b9e23-8e44-45f1-dbfb-c3d788c288d1"
      },
      "outputs": [],
      "source": [
        "'''Hyperparameters'''\n",
        "MAX_LEN = 64\n",
        "VOCAB_SIZE = 32768\n",
        "UNK_IDX, PAD_IDX, BOS_IDX, EOS_IDX = 0, 1, 2, 3\n",
        "BATCH_SIZE = 64\n",
        "SRC_LANGUAGE = 'de'\n",
        "TGT_LANGUAGE = 'en'\n",
        "D_MODEL = 512\n",
        "D_H = 8\n",
        "D_FF = 2048\n",
        "EMBEDDING_SIZE = 512\n",
        "N = 3\n",
        "DROPOUT = 0.2\n",
        "LR = 0.001\n",
        "EPOCHS = 3\n",
        "DEVICE = torch.device(\"cuda:0\" if torch.cuda.is_available() else \"cpu\")\n",
        "'''---------------'''"
      ]
    },
    {
      "cell_type": "code",
      "execution_count": 10,
      "metadata": {
        "id": "l7QQ1zDWMjIj"
      },
      "outputs": [],
      "source": [
        "SRC_LANGUAGE = 'de'\n",
        "TGT_LANGUAGE = 'en'\n",
        "\n",
        "train_iter = Multi30k(split='train', language_pair=(SRC_LANGUAGE, TGT_LANGUAGE))\n",
        "\n",
        "f = open(\"parallelcorpus.txt\", \"a\")\n",
        "\n",
        "for i in train_iter:\n",
        "  for x in [x.rstrip(\"\\n\") for x in i]:\n",
        "    f.write(x)\n",
        "    f.write(' ')\n",
        "\n",
        "f.close()"
      ]
    },
    {
      "cell_type": "code",
      "execution_count": 11,
      "metadata": {
        "id": "AO-nW7opMjIk"
      },
      "outputs": [],
      "source": [
        "tokenizer = Tokenizer(BPE(unk_token=\"[UNK]\"))\n",
        "trainer = BpeTrainer(vocab_size=VOCAB_SIZE, special_tokens=[\"[UNK]\", \"[PAD]\", \"[BOS]\", \"[EOS]\"])\n",
        "tokenizer.pre_tokenizer = Whitespace()\n",
        "tokenizer.train(['parallelcorpus.txt'], trainer)\n",
        "\n",
        "tokenizer.enable_padding(pad_id=1, length=MAX_LEN)\n",
        "tokenizer.post_processor = TemplateProcessing(\n",
        "    single=\"[BOS] $A [EOS]\",\n",
        "    special_tokens=[\n",
        "        (\"[BOS]\", tokenizer.token_to_id(\"[BOS]\")),\n",
        "        (\"[EOS]\", tokenizer.token_to_id(\"[EOS]\")),\n",
        "    ],\n",
        ")\n",
        "\n",
        "def collate_fn(batch):\n",
        "    src_batch, tgt_batch = [], []\n",
        "    for src_sample, tgt_sample in batch:\n",
        "        src_enc = tokenizer.encode(src_sample.rstrip(\"\\n\"))\n",
        "        src_batch.append(torch.tensor(src_enc.ids))\n",
        "\n",
        "        tgt_enc = tokenizer.encode(tgt_sample.rstrip(\"\\n\"))\n",
        "        tgt_batch.append(torch.tensor(tgt_enc.ids))\n",
        "    return torch.stack(src_batch), torch.stack(tgt_batch)"
      ]
    },
    {
      "cell_type": "code",
      "execution_count": 12,
      "metadata": {
        "id": "JUJ3J_o1MjIl"
      },
      "outputs": [],
      "source": [
        "test_iter = Multi30k(split='valid', language_pair=(SRC_LANGUAGE, TGT_LANGUAGE))\n",
        "train_dataloader = DataLoader(train_iter, batch_size=BATCH_SIZE, collate_fn=collate_fn, drop_last=True)\n",
        "test_dataloader = DataLoader(test_iter, batch_size=BATCH_SIZE, collate_fn=collate_fn, drop_last=True)"
      ]
    },
    {
      "cell_type": "code",
      "execution_count": 13,
      "metadata": {
        "id": "W3rOmg4YMjIl"
      },
      "outputs": [],
      "source": [
        "class Embedding(nn.Module):\n",
        "    def __init__(self, vocab_size=32678, embedding_size=512, pad_mask=1):\n",
        "        super(Embedding, self).__init__()\n",
        "        self.embedding_size = embedding_size\n",
        "        self.emb = nn.Embedding(num_embeddings=vocab_size, embedding_dim=embedding_size, padding_idx=pad_mask, device=DEVICE)\n",
        "\n",
        "    def forward(self, x):\n",
        "        return self.emb(x) * math.sqrt(self.embedding_size)"
      ]
    },
    {
      "cell_type": "code",
      "execution_count": 14,
      "metadata": {
        "id": "XuvYlXDuMjIm"
      },
      "outputs": [],
      "source": [
        "class EncoderLayer(nn.Module):\n",
        "    def __init__(self, d_model=512, d_ff=2048, d_h=8, dropout=0.1):\n",
        "        super(EncoderLayer, self).__init__()\n",
        "        self.d_h = d_h\n",
        "        self.d_k = d_model // d_h\n",
        "        self.linears = nn.ModuleList([nn.Linear(d_model, self.d_k) for _ in range(d_h*3)])\n",
        "        self.dropout = nn.Dropout(dropout)\n",
        "        self.Linear = nn.Linear(d_model, d_model)\n",
        "        self.normalize1 = nn.LayerNorm(d_model)\n",
        "        self.feed_forward = nn.Sequential(\n",
        "            nn.Linear(d_model, d_ff),\n",
        "            nn.ReLU(),\n",
        "            nn.Dropout(dropout),\n",
        "            nn.Linear(d_ff, d_model)\n",
        "        )\n",
        "        self.normalize2 = nn.LayerNorm(d_model)\n",
        "\n",
        "    def forward(self, x):\n",
        "        multi_head = []\n",
        "        for i in range(self.d_h):\n",
        "            query = self.linears[3*i](x)\n",
        "            key = self.linears[3*i + 1](x)\n",
        "            value = self.linears[3*i + 2](x)\n",
        "            scaledDotProd = (query @ key.transpose(-1, -2)) / math.sqrt(self.d_k)\n",
        "            soft = F.softmax(scaledDotProd, dim=-1)\n",
        "            soft = self.dropout(soft)\n",
        "            attn =  soft @ value\n",
        "            multi_head.append(attn)\n",
        "        selfAttn = self.Linear(torch.cat((multi_head), -1))\n",
        "        addNorm = self.normalize1(x + selfAttn)\n",
        "        encoderOutput = self.normalize2(x + self.feed_forward(addNorm))\n",
        "        return encoderOutput"
      ]
    },
    {
      "cell_type": "code",
      "execution_count": 15,
      "metadata": {
        "id": "cfHw7_VuMjIn"
      },
      "outputs": [],
      "source": [
        "class EncoderStack(nn.Module):\n",
        "    def __init__(self, d_model=512, d_ff=2048, d_h=8, dropout=0.1, N=6):\n",
        "        super(EncoderStack, self).__init__()\n",
        "        self.encoders = nn.ModuleList([EncoderLayer(d_model, d_ff, d_h, dropout) for _ in range(N)]) # Stacking Encoder Layer N Times\n",
        "\n",
        "    def forward(self, x):\n",
        "        for encoder in self.encoders:\n",
        "            x = encoder(x)\n",
        "        return x"
      ]
    },
    {
      "cell_type": "code",
      "execution_count": 16,
      "metadata": {
        "id": "gaZLO3lsMjIn"
      },
      "outputs": [],
      "source": [
        "class DecoderLayer(nn.Module):\n",
        "    def __init__(self, d_model=512, d_ff=2048, d_h=8, dropout=0.1):\n",
        "        super(DecoderLayer, self).__init__()\n",
        "        self.d_h = d_h\n",
        "        self.d_k = d_model // d_h\n",
        "        self.linears = nn.ModuleList([nn.Linear(d_model, self.d_k) for _ in range(d_h*3)])\n",
        "        self.dropout1 = nn.Dropout(dropout)\n",
        "        self.firstLinear = nn.Linear(d_h * self.d_k, d_model)\n",
        "        self.normalize1 = nn.LayerNorm(d_model)\n",
        "        self.dropout2 = nn.Dropout(dropout)\n",
        "        self.secondLinear = nn.Linear(d_h * d_model, d_model)\n",
        "        self.normalize2 = nn.LayerNorm(d_model)\n",
        "        self.feed_forward = nn.Sequential(\n",
        "            nn.Linear(d_model, d_ff),\n",
        "            nn.ReLU(),\n",
        "            nn.Dropout(dropout),\n",
        "            nn.Linear(d_ff, d_model)\n",
        "        )\n",
        "        self.normalize3 = nn.LayerNorm(d_model)\n",
        "\n",
        "    def forward(self, x, y, y_mask=None):\n",
        "        multi_head1 = []\n",
        "        multi_head2 = []\n",
        "\n",
        "        # FIRST ATTENTION LAYER\n",
        "        ''' Same as encoder, but here we have tgt(target) as the decoder's input '''\n",
        "        for i in range(self.d_h):\n",
        "            query = self.linears[3*i](y)\n",
        "            key = self.linears[3*i+1](y)\n",
        "            value = self.linears[3*i+2](y)\n",
        "            scaledDotProd = (query @ key.transpose(-1, -2)) / math.sqrt(self.d_k)\n",
        "            if y_mask is not None:\n",
        "                scaledDotProd = scaledDotProd.masked_fill(y_mask==0, float('-inf'))\n",
        "            soft = F.softmax(scaledDotProd, dim=-1)\n",
        "            soft = self.dropout1(soft)\n",
        "            attn =  soft @ value\n",
        "            multi_head1.append(attn)\n",
        "        selfAttn = self.firstLinear(torch.cat((multi_head1), dim=-1))\n",
        "        addNorm1 = self.normalize1(y + selfAttn)\n",
        "\n",
        "        # SECOND ATTENTION LAYER\n",
        "        ''' Attention layer, instead of V and K matrices, we use the output of the encoder '''\n",
        "        for i in range(self.d_h):\n",
        "            scaledDotProd = (addNorm1 @ x.transpose(-1, -2)) / math.sqrt(self.d_k)\n",
        "            soft = F.softmax(scaledDotProd, dim=-1)\n",
        "            soft = self.dropout2(soft)\n",
        "            attn = soft @ x\n",
        "            multi_head2.append(attn)\n",
        "        crossAttn = self.secondLinear(torch.cat((multi_head2), dim=-1))\n",
        "        addNorm2 = self.normalize2(y + crossAttn)\n",
        "        decoderOutput = self.normalize3(y + self.feed_forward(addNorm2))\n",
        "        return decoderOutput"
      ]
    },
    {
      "cell_type": "code",
      "execution_count": 17,
      "metadata": {
        "id": "NFSeeoKTMjIo"
      },
      "outputs": [],
      "source": [
        "class DecoderStack(nn.Module):\n",
        "    def __init__(self, d_model=512, d_ff=2048, d_h=8, dropout=0.1, N=6):\n",
        "        super(DecoderStack, self).__init__()\n",
        "        self.decoders = nn.ModuleList([DecoderLayer(d_model, d_ff, d_h, dropout) for _ in range(N)]) # Stacking Decoder Layer N Times\n",
        "\n",
        "    def forward(self, x, y, y_mask=None):\n",
        "        for decoder in self.decoders:\n",
        "            y = decoder(x, y, y_mask)\n",
        "        return y"
      ]
    },
    {
      "cell_type": "code",
      "execution_count": 18,
      "metadata": {
        "id": "Tx4vpT4725w3"
      },
      "outputs": [],
      "source": [
        "class Mask(nn.Module):\n",
        "    def __init__(self):\n",
        "        super(Mask, self).__init__()\n",
        "    \n",
        "    def forward(self, batch_size, seq_len1, seq_len2):\n",
        "        mask = torch.tril(torch.ones((batch_size, seq_len1, seq_len2), device=DEVICE))\n",
        "        return mask"
      ]
    },
    {
      "cell_type": "code",
      "execution_count": 19,
      "metadata": {
        "id": "P4V-2pak25w4"
      },
      "outputs": [],
      "source": [
        "class Positional_Encoding(nn.Module):\n",
        "    def __init__(self, embedding_size=512, n=10000):\n",
        "        super(Positional_Encoding, self).__init__()\n",
        "        self.embedding_size = embedding_size\n",
        "        self.n = n\n",
        "    def forward(self, seq_len):\n",
        "        P = torch.zeros(seq_len, self.embedding_size, device=DEVICE)\n",
        "        for k in range(seq_len):\n",
        "            for i in range(self.embedding_size // 2):\n",
        "                denominator = math.pow(self.n, 2*i/self.embedding_size)\n",
        "                P[k, 2*i] = math.sin(k/denominator)\n",
        "                P[k, 2*i+1] = math.cos(k/denominator)\n",
        "        return P"
      ]
    },
    {
      "cell_type": "code",
      "execution_count": 20,
      "metadata": {
        "id": "Eejkpbku25wz"
      },
      "outputs": [],
      "source": [
        "class ModelOutput(nn.Module):\n",
        "    def __init__(self, d_model, vocab_size):\n",
        "        super(ModelOutput, self).__init__()\n",
        "        self.linear = nn.Linear(d_model, vocab_size)\n",
        "    def forward(self, x):\n",
        "        return self.linear(x)"
      ]
    },
    {
      "cell_type": "code",
      "execution_count": 21,
      "metadata": {
        "id": "lsNHTQTPMjIo"
      },
      "outputs": [],
      "source": [
        "class Transformer(nn.Module):\n",
        "    def __init__(self, d_model=512, d_h = 8, d_ff=2048, embedding_size=512, vocab_size=32768, dropout=0.1, num_coder_layers=6):\n",
        "        super(Transformer, self).__init__()\n",
        "        self.embed = Embedding(vocab_size, embedding_size, pad_mask=1)\n",
        "        self.positional = Positional_Encoding(embedding_size, 10000)\n",
        "        self.masking = Mask()\n",
        "        self.dropout1 = nn.Dropout(dropout)\n",
        "        self.dropout2 = nn.Dropout(dropout)\n",
        "        self.encoderStack = EncoderStack(d_model, d_ff, d_h, dropout, num_coder_layers)\n",
        "        self.decoderStack = DecoderStack(d_model, d_ff, d_h, dropout, num_coder_layers)\n",
        "        self.generate = ModelOutput(d_model, vocab_size)\n",
        "\n",
        "    def forward(self, x: Tensor, y: Tensor):\n",
        "        assert x.shape[0] == y.shape[0]\n",
        "        batch_dim = x.shape[0]\n",
        "        src_seq_len, tgt_seq_len = x.shape[1], y.shape[1]\n",
        "        x_pos_encoding = self.positional(src_seq_len)\n",
        "        y_pos_encoding = self.positional(tgt_seq_len)\n",
        "        y_mask = self.masking(batch_dim, src_seq_len, tgt_seq_len)\n",
        "        x, y = self.embed(x), self.embed(y)\n",
        "        x, y = x_pos_encoding + x, y_pos_encoding + y\n",
        "        x, y = self.dropout1(x), self.dropout2(y)\n",
        "        encoderOutput = self.encoderStack(x)\n",
        "        decoderOutput = self.decoderStack(encoderOutput, y, y_mask)\n",
        "        logits = self.generate(decoderOutput)\n",
        "        return logits"
      ]
    },
    {
      "cell_type": "code",
      "execution_count": 22,
      "metadata": {
        "id": "n5c2hP21MjIp"
      },
      "outputs": [],
      "source": [
        "model = Transformer(d_model=D_MODEL, d_h=D_H, d_ff=D_FF, embedding_size=EMBEDDING_SIZE, vocab_size=VOCAB_SIZE, dropout=DROPOUT, num_coder_layers=N).to(DEVICE)"
      ]
    },
    {
      "cell_type": "code",
      "execution_count": 24,
      "metadata": {
        "id": "3OfIu8IFjmbt"
      },
      "outputs": [],
      "source": [
        "def train(model: nn.Module, train_data: DataLoader, test_data: DataLoader, learning_rate: int, padding_idx: int, epoch_num: int):\n",
        "    model.train()\n",
        "    optimizer = optim.Adam(model.parameters(), lr=learning_rate)\n",
        "    criterion = nn.CrossEntropyLoss(ignore_index=padding_idx)\n",
        "\n",
        "    train_loss = []\n",
        "\n",
        "    for epoch in range(0, epoch_num):\n",
        "\n",
        "        print(\"#\"*67)\n",
        "        print(f'{\"#\"*20}Training begins for epoc {epoch:>2}{\"#\"*20}')\n",
        "        print(\"#\"*67)\n",
        "        epoc_loss = 0\n",
        "        total_loss = 0\n",
        "        for i, (src, tgt) in enumerate(train_data):\n",
        "\n",
        "            src, tgt = src.to(DEVICE), tgt.to(DEVICE)\n",
        "            tgt_in = tgt[:-1, ]\n",
        "            logits = model(src, tgt).permute(0, 2, 1)\n",
        "            optimizer.zero_grad()\n",
        "            tgt_labels = tgt[1:, :]\n",
        "            loss = criterion(logits, tgt)\n",
        "            total_loss += loss.item()\n",
        "            epoc_loss += loss.item()\n",
        "            loss.backward()\n",
        "            optimizer.step()\n",
        "\n",
        "            if i%100 == 0 and i != 0:\n",
        "                loss_per_batch = total_loss / 100\n",
        "                print(f'Loss per batch is: {loss_per_batch}')\n",
        "                train_loss.append(loss_per_batch)\n",
        "                total_loss = 0\n",
        "        epoc_loss /= len(list(train_data))\n",
        "        print(f'Training is complete for epoch {epoch:>2}, average training loss for epoch {epoch:>2}: {epoc_loss:>5.3f}')\n",
        "        print(\"-\"*67)\n",
        "\n",
        "    print(\"Loss graph: \")\n",
        "    plt.plot(train_loss, color='blue')\n",
        "    plt.title(\"Loss Graph\")\n",
        "    plt.xlabel(\"Hundred Batches\")\n",
        "    plt.ylabel(\"Loss per Batch\")\n",
        "    plt.show()"
      ]
    },
    {
      "cell_type": "code",
      "execution_count": 25,
      "metadata": {
        "colab": {
          "base_uri": "https://localhost:8080/",
          "height": 797
        },
        "id": "JEYHRiFeZVwT",
        "outputId": "8713c61e-bc5f-4d88-fbc9-3ae7bffa525a"
      },
      "outputs": [
        {
          "name": "stdout",
          "output_type": "stream",
          "text": [
            "###################################################################\n",
            "####################Training begins for epoc  0####################\n",
            "###################################################################\n",
            "Loss per batch is: 1.8413782560825347\n",
            "Loss per batch is: 0.49660166025161745\n",
            "Loss per batch is: 0.31941967099905016\n",
            "Loss per batch is: 0.2393599233776331\n",
            "Training is complete for epoch  0, average training loss for epoch  0: 0.666\n",
            "-------------------------------------------------------------------\n",
            "###################################################################\n",
            "####################Training begins for epoc  1####################\n",
            "###################################################################\n",
            "Loss per batch is: 0.08591981424950063\n",
            "Loss per batch is: 0.06086547771468759\n",
            "Loss per batch is: 0.04521211693063378\n",
            "Loss per batch is: 0.03622111382894218\n",
            "Training is complete for epoch  1, average training loss for epoch  1: 0.054\n",
            "-------------------------------------------------------------------\n",
            "###################################################################\n",
            "####################Training begins for epoc  2####################\n",
            "###################################################################\n",
            "Loss per batch is: 0.00809079919825308\n",
            "Loss per batch is: 0.001963338245113846\n",
            "Loss per batch is: 0.0006404125713743269\n",
            "Loss per batch is: 0.00038734221932827494\n",
            "Training is complete for epoch  2, average training loss for epoch  2: 0.002\n",
            "-------------------------------------------------------------------\n",
            "Loss graph: \n"
          ]
        },
        {
          "data": {
            "image/png": "[encoded data removed]",
            "text/plain": [
              "<Figure size 432x288 with 1 Axes>"
            ]
          },
          "metadata": {
            "needs_background": "light"
          },
          "output_type": "display_data"
        }
      ],
      "source": [
        "train(model, train_dataloader, test_dataloader, learning_rate=LR, padding_idx=PAD_IDX, epoch_num=EPOCHS)"
      ]
    },
    {
      "cell_type": "code",
      "execution_count": 28,
      "metadata": {
        "colab": {
          "base_uri": "https://localhost:8080/"
        },
        "id": "pL1Ka42zXlfq",
        "outputId": "b34cf75b-f01a-4b7d-fb4e-8d6eb6dfafa1"
      },
      "outputs": [
        {
          "name": "stdout",
          "output_type": "stream",
          "text": [
            "torch.Size([64, 64])\n",
            "torch.Size([64, 64])\n"
          ]
        }
      ],
      "source": [
        "src, tgt = next(iter(test_dataloader))\n",
        "src, tgt = src.to(DEVICE), tgt.to(DEVICE)\n",
        "print(src.shape)\n",
        "print(tgt.shape)"
      ]
    },
    {
      "cell_type": "code",
      "execution_count": 29,
      "metadata": {
        "id": "WI6E17_CXlfr"
      },
      "outputs": [],
      "source": [
        "logits = model(src, tgt)\n",
        "pred = torch.argmax(logits, dim=2)"
      ]
    },
    {
      "cell_type": "code",
      "execution_count": 30,
      "metadata": {
        "colab": {
          "base_uri": "https://localhost:8080/"
        },
        "id": "Rtqy9lxxXlfr",
        "outputId": "ea7be0f1-0c12-462c-ffde-70632893c03c"
      },
      "outputs": [
        {
          "name": "stdout",
          "output_type": "stream",
          "text": [
            "Example no 0: \n",
            "################################################################################\n",
            "#German text:  Eine Gruppe von Männern lädt Baumwolle auf einen Lastwagen\n",
            "################################################################################\n",
            "#English translation:  A group of men are loading cotton onto a truck\n",
            "################################################################################\n",
            "#Model translation:  A group of men are loading cotton onto a truck\n",
            "################################################################################\n",
            "\n",
            "\n",
            "Example no 1: \n",
            "################################################################################\n",
            "#German text:  Ein Mann schläft in einem grünen Raum auf einem Sofa .\n",
            "################################################################################\n",
            "#English translation:  A man sleeping in a green room on a couch .\n",
            "################################################################################\n",
            "#Model translation:  A man sleeping in a green room on a couch .\n",
            "################################################################################\n",
            "\n",
            "\n",
            "Example no 2: \n",
            "################################################################################\n",
            "#German text:  Ein Junge mit Kopfhörern sitzt auf den Schultern einer Frau .\n",
            "################################################################################\n",
            "#English translation:  A boy wearing headphones sits on a woman ' s shoulders .\n",
            "################################################################################\n",
            "#Model translation:  A boy wearing headphones sits on a woman ' s shoulders .\n",
            "################################################################################\n",
            "\n",
            "\n",
            "Example no 3: \n",
            "################################################################################\n",
            "#German text:  Zwei Männer bauen eine blaue Eis f ischer hütte auf einem zuge froren en See auf\n",
            "################################################################################\n",
            "#English translation:  Two men setting up a blue ice fishing hut on an iced over lake\n",
            "################################################################################\n",
            "#Model translation:  Two men setting up a blue ice fishing hut on an iced over lake\n",
            "################################################################################\n",
            "\n",
            "\n",
            "Example no 4: \n",
            "################################################################################\n",
            "#German text:  Ein Mann mit beginnender Glatze , der eine rote Rettungsweste trägt , sitzt in einem kleinen Boot .\n",
            "################################################################################\n",
            "#English translation:  A balding man wearing a red life jacket is sitting in a small boat .\n",
            "################################################################################\n",
            "#Model translation:  A balding man wearing a red life jacket is sitting in a small boat .\n",
            "################################################################################\n",
            "\n",
            "\n",
            "Example no 5: \n",
            "################################################################################\n",
            "#German text:  Eine Frau in einem rotem Mantel , die eine vermutlich aus Asien st ammen de Handtasche in einem blauen Farbton hält , springt für einen Schnappschuss in die Luft .\n",
            "################################################################################\n",
            "#English translation:  A lady in a red coat , holding a blu ish hand bag likely of asian descent , jumping off the ground for a snap shot .\n",
            "################################################################################\n",
            "#Model translation:  A lady in a red coat , holding a blu ish hand bag likely of asian descent , jumping off the ground for a snap shot .\n",
            "################################################################################\n",
            "\n",
            "\n",
            "Example no 6: \n",
            "################################################################################\n",
            "#German text:  Ein brauner Hund rennt dem schwarzen Hund hinterher .\n",
            "################################################################################\n",
            "#English translation:  A brown dog is running after the black dog .\n",
            "################################################################################\n",
            "#Model translation:  A brown dog is running after the black dog .\n",
            "################################################################################\n",
            "\n",
            "\n",
            "Example no 7: \n",
            "################################################################################\n",
            "#German text:  Ein kleiner Junge mit einem Giants - Trikot schwingt einen Baseballschläger in Richtung eines ankommenden Balls .\n",
            "################################################################################\n",
            "#English translation:  A young boy wearing a Giants jersey swings a baseball bat at an incoming pitch .\n",
            "################################################################################\n",
            "#Model translation:  A young boy wearing a Giants jersey swings a baseball bat at an incoming pitch .\n",
            "################################################################################\n",
            "\n",
            "\n",
            "Example no 8: \n",
            "################################################################################\n",
            "#German text:  Ein Mann telefoniert in einem unaufgeräumten Büro\n",
            "################################################################################\n",
            "#English translation:  A man in a cluttered office is using the telephone\n",
            "################################################################################\n",
            "#Model translation:  A man in a cluttered office is using the telephone\n",
            "################################################################################\n",
            "\n",
            "\n",
            "Example no 9: \n",
            "################################################################################\n",
            "#German text:  Eine lächelnde Frau mit einem pfirsichfarbenen Trägershirt hält ein Mountainbike\n",
            "################################################################################\n",
            "#English translation:  A smiling woman in a peach tank top stands holding a mountain bike\n",
            "################################################################################\n",
            "#Model translation:  A smiling woman in a peach tank top stands holding a mountain bike\n",
            "################################################################################\n",
            "\n",
            "\n"
          ]
        }
      ],
      "source": [
        "for example in range(10):\n",
        "    print(f\"Example no {example}: \")\n",
        "    pad_count = (tgt[example] == PAD_IDX).data.sum().item()\n",
        "    sentence_len = tgt.shape[1] - pad_count\n",
        "    print(\"#\"*80)\n",
        "    print(\"#German text: \", tokenizer.decode(src[example].cpu().numpy().squeeze()))\n",
        "    print(\"#\"*80)\n",
        "    print(\"#English translation: \", tokenizer.decode(tgt[example].cpu().numpy().squeeze()))\n",
        "    print(\"#\"*80)\n",
        "    print(\"#Model translation: \", tokenizer.decode(pred[example][:sentence_len].cpu().numpy().squeeze()))\n",
        "    print(\"#\"*80)\n",
        "    print(\"\\n\")"
      ]
    },
    {
      "cell_type": "code",
      "execution_count": 26,
      "metadata": {
        "id": "4DglT1Wd8LM0"
      },
      "outputs": [],
      "source": [
        "@torch.no_grad()\n",
        "def compute_val_loss(model: nn.Module, test_data: DataLoader, padding_index: int):\n",
        "    model.eval()\n",
        "    criterion = nn.CrossEntropyLoss(ignore_index=padding_index)\n",
        "    loss_arr = []\n",
        "    for src, tgt in test_data:\n",
        "        src, tgt = src.to(DEVICE), tgt.to(DEVICE)\n",
        "        logits = model(src, tgt).permute(0, 2, 1)\n",
        "        loss = criterion(logits, tgt)\n",
        "        loss_arr.append(loss.item())\n",
        "    average_loss = np.average(loss_arr)\n",
        "    model.train()\n",
        "    return average_loss"
      ]
    },
    {
      "cell_type": "code",
      "execution_count": 27,
      "metadata": {
        "colab": {
          "base_uri": "https://localhost:8080/"
        },
        "id": "MLx5rPdqyL8u",
        "outputId": "26dacf57-01d4-4cc8-c534-f2a2d74c9685"
      },
      "outputs": [
        {
          "data": {
            "text/plain": [
              "0.10297680820027987"
            ]
          },
          "execution_count": 27,
          "metadata": {},
          "output_type": "execute_result"
        }
      ],
      "source": [
        "compute_val_loss(model, test_dataloader, PAD_IDX)"
      ]
    }
  ],
  "metadata": {
    "accelerator": "GPU",
    "colab": {
      "provenance": []
    },
    "gpuClass": "standard",
    "kernelspec": {
      "display_name": "base",
      "language": "python",
      "name": "python3"
    },
    "language_info": {
      "codemirror_mode": {
        "name": "ipython",
        "version": 3
      },
      "file_extension": ".py",
      "mimetype": "text/x-python",
      "name": "python",
      "nbconvert_exporter": "python",
      "pygments_lexer": "ipython3",
      "version": "3.9.13"
    },
    "orig_nbformat": 4,
    "vscode": {
      "interpreter": {
        "hash": "6fb3815109fae185a2989dc67116c03680cdd5befd2823d06e43fcf705655cc7"
      }
    }
  },
  "nbformat": 4,
  "nbformat_minor": 0
}
