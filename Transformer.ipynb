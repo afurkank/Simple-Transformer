{
  "cells": [
    {
      "cell_type": "code",
      "execution_count": null,
      "metadata": {
        "colab": {
          "base_uri": "https://localhost:8080/"
        },
        "id": "pWSq1ZN0MjIf",
        "outputId": "093604a1-3405-4978-9c22-44317a8a25fe"
      },
      "outputs": [],
      "source": [
        "'''\n",
        "!pip install tokenizers\n",
        "!pip install torchdata\n",
        "'''\n",
        "import torch\n",
        "import torch.nn as nn\n",
        "import torch.nn.functional as F\n",
        "import torch.optim as optim\n",
        "import matplotlib.pyplot as plt\n",
        "import numpy as np\n",
        "import math\n",
        "\n",
        "from typing import Tuple\n",
        "from torch import Tensor\n",
        "from torchtext.datasets import Multi30k\n",
        "from torch.utils.data import DataLoader\n",
        "from tokenizers import Tokenizer\n",
        "from tokenizers.models import BPE\n",
        "from tokenizers.trainers import BpeTrainer\n",
        "from tokenizers.pre_tokenizers import Whitespace\n",
        "from tokenizers.processors import TemplateProcessing\n",
        "from copy import deepcopy"
      ]
    },
    {
      "cell_type": "code",
      "execution_count": null,
      "metadata": {
        "colab": {
          "base_uri": "https://localhost:8080/"
        },
        "id": "M1dD0NMEMjIh",
        "outputId": "31187c42-b9c6-4656-cb72-657c2922ccfd"
      },
      "outputs": [],
      "source": [
        "device = torch.device(\"cuda:0\" if torch.cuda.is_available() else \"cpu\")\n",
        "print(device)\n",
        "if torch.cuda.is_available():\n",
        "    print(torch.cuda.get_device_name(0))"
      ]
    },
    {
      "cell_type": "code",
      "execution_count": 4,
      "metadata": {
        "id": "l7QQ1zDWMjIj"
      },
      "outputs": [],
      "source": [
        "SRC_LANGUAGE = 'de'\n",
        "TGT_LANGUAGE = 'en'\n",
        "\n",
        "train_iter = Multi30k(split='train', language_pair=(SRC_LANGUAGE, TGT_LANGUAGE))\n",
        "\n",
        "f = open(\"parallelcorpus.txt\", \"a\")\n",
        "\n",
        "for i in train_iter:\n",
        "  for x in [x.rstrip(\"\\n\") for x in i]:\n",
        "    f.write(x)\n",
        "    f.write(' ')\n",
        "\n",
        "f.close()"
      ]
    },
    {
      "cell_type": "code",
      "execution_count": 5,
      "metadata": {
        "id": "AO-nW7opMjIk"
      },
      "outputs": [],
      "source": [
        "MAX_LEN = 64\n",
        "VOCAB_SIZE = 32768\n",
        "UNK_IDX, PAD_IDX, BOS_IDX, EOS_IDX = 0, 1, 2, 3\n",
        "BATCH_SIZE = 32\n",
        "\n",
        "tokenizer = Tokenizer(BPE(unk_token=\"[UNK]\"))\n",
        "trainer = BpeTrainer(vocab_size=VOCAB_SIZE, special_tokens=[\"[UNK]\", \"[PAD]\", \"[BOS]\", \"[EOS]\"])\n",
        "tokenizer.pre_tokenizer = Whitespace()\n",
        "tokenizer.train(['parallelcorpus.txt'], trainer)\n",
        "\n",
        "tokenizer.enable_padding(pad_id=1, length=MAX_LEN)\n",
        "tokenizer.post_processor = TemplateProcessing(\n",
        "    single=\"[BOS] $A [EOS]\",\n",
        "    special_tokens=[\n",
        "        (\"[BOS]\", tokenizer.token_to_id(\"[BOS]\")),\n",
        "        (\"[EOS]\", tokenizer.token_to_id(\"[EOS]\")),\n",
        "    ],\n",
        ")\n",
        "\n",
        "def collate_fn(batch):\n",
        "    src_batch, tgt_batch = [], []\n",
        "    for src_sample, tgt_sample in batch:\n",
        "        src_enc = tokenizer.encode(src_sample.rstrip(\"\\n\"))\n",
        "        src_batch.append(torch.tensor(src_enc.ids))\n",
        "\n",
        "        tgt_enc = tokenizer.encode(tgt_sample.rstrip(\"\\n\"))\n",
        "        tgt_batch.append(torch.tensor(tgt_enc.ids))\n",
        "    return torch.stack(src_batch), torch.stack(tgt_batch)"
      ]
    },
    {
      "cell_type": "code",
      "execution_count": 6,
      "metadata": {
        "id": "JUJ3J_o1MjIl"
      },
      "outputs": [],
      "source": [
        "test_iter = Multi30k(split='valid', language_pair=(SRC_LANGUAGE, TGT_LANGUAGE))\n",
        "train_dataloader = DataLoader(train_iter, batch_size=BATCH_SIZE, collate_fn=collate_fn, drop_last=True)\n",
        "test_dataloader = DataLoader(test_iter, batch_size=BATCH_SIZE, collate_fn=collate_fn, drop_last=True)"
      ]
    },
    {
      "cell_type": "code",
      "execution_count": 7,
      "metadata": {
        "id": "W3rOmg4YMjIl"
      },
      "outputs": [],
      "source": [
        "class Embedding(nn.Module):\n",
        "    def __init__(self, vocab_size=32678, d_model=512, pad_mask=1):\n",
        "        super(Embedding, self).__init__()\n",
        "        self.d_model = d_model\n",
        "        self.emb = nn.Embedding(num_embeddings=vocab_size, embedding_dim=d_model, padding_idx=pad_mask)\n",
        "\n",
        "    def forward(self, x):\n",
        "        return self.emb(x) * math.sqrt(self.d_model)"
      ]
    },
    {
      "cell_type": "code",
      "execution_count": 8,
      "metadata": {
        "id": "XuvYlXDuMjIm"
      },
      "outputs": [],
      "source": [
        "class EncoderLayer(nn.Module):\n",
        "    def __init__(self, d_model=512, d_ff=2048, d_h=8, dropout=0.1):\n",
        "        super(EncoderLayer, self).__init__()\n",
        "        self.d_model = d_model\n",
        "        self.d_h = d_h\n",
        "        self.d_ff = d_ff\n",
        "        self.d_k = self.d_v = int(d_model / d_h)\n",
        "        self.dropout = nn.Dropout(dropout)\n",
        "        self.Linear = nn.Linear(d_model, d_model) # Linear Layer for the concatenated head\n",
        "        self.normalize = nn.LayerNorm(d_model) # Normalizing Layer\n",
        "        self.feed_forward = nn.Sequential( # Feed Forward Layer\n",
        "            nn.Linear(d_model, d_ff),\n",
        "            nn.ReLU(),\n",
        "            nn.Dropout(dropout),\n",
        "            nn.Linear(d_ff, d_model)\n",
        "        )\n",
        "        self.linears = nn.ModuleList([nn.Linear(d_model, self.d_k) for _ in range(d_h*3)])\n",
        "\n",
        "    def forward(self, x):\n",
        "        heads = []\n",
        "        for i in range(self.d_h):\n",
        "            Q = self.linears[3*i](x) # Query Matrix\n",
        "            K = self.linears[3*i + 1](x) # Key Matrix\n",
        "            V = self.linears[3*i + 2](x) # Value Matrix\n",
        "            scaledMatMul = Q @ K.transpose(-1, -2) / math.sqrt(self.d_k) # Matrix mul. of Q and K.T -> Scale\n",
        "            soft = F.softmax(scaledMatMul, dim=-1)\n",
        "            soft = self.dropout(soft)\n",
        "            head =  soft @ V # Softmax\n",
        "            heads.append(head) # A Single Head\n",
        "        Z = self.Linear(torch.cat((heads), -1)) # Concatenated heads -> Linear Layer\n",
        "        Z = self.normalize(x + Z) # Output of the First Add&Norm Layer\n",
        "        Z = self.normalize(self.feed_forward(Z) + Z) # 1st Add&Norm -> Feed Forward -> 2nd Add&Norm\n",
        "        return Z"
      ]
    },
    {
      "cell_type": "code",
      "execution_count": 9,
      "metadata": {
        "id": "cfHw7_VuMjIn"
      },
      "outputs": [],
      "source": [
        "class EncoderStack(nn.Module):\n",
        "    def __init__(self, d_model=512, d_ff=2048, d_h=8, dropout=0.1, N=6):\n",
        "        super(EncoderStack, self).__init__()\n",
        "        self.encoders = nn.ModuleList([EncoderLayer(d_model, d_ff, d_h, dropout) for _ in range(N)]) # Stacking Encoder Layer N Times\n",
        "\n",
        "    def forward(self, x):\n",
        "        for encoder in self.encoders:\n",
        "            x = encoder(x)\n",
        "        return x"
      ]
    },
    {
      "cell_type": "code",
      "execution_count": 10,
      "metadata": {
        "id": "gaZLO3lsMjIn"
      },
      "outputs": [],
      "source": [
        "class DecoderLayer(nn.Module):\n",
        "    def __init__(self, d_model=512, d_ff=2048, d_h=8, dropout=0.1):\n",
        "        super(DecoderLayer, self).__init__()\n",
        "        self.d_model = d_model\n",
        "        self.d_h = d_h\n",
        "        self.d_k = self.d_v = int(self.d_model / self.d_h)\n",
        "        self.linears = nn.ModuleList([nn.Linear(d_model, self.d_k) for _ in range(d_h*3)]) # linear layers\n",
        "        self.firstLinear = nn.Linear(d_h * self.d_v, d_model) # linear layer for the concatenated head\n",
        "        self.secondLinear = nn.Linear(d_h * self.d_model, d_model) # linear layer for the concatenated head(second multi-head attention)\n",
        "        self.normalize = nn.LayerNorm(d_model)\n",
        "        self.feed_forward = nn.Sequential( # Feed Forward Layer\n",
        "            nn.Linear(d_model, d_ff),\n",
        "            nn.ReLU(),\n",
        "            nn.Dropout(dropout),\n",
        "            nn.Linear(d_ff, d_model)\n",
        "        )\n",
        "        self.dropout1 = nn.Dropout(dropout)\n",
        "        self.dropout2 = nn.Dropout(dropout)\n",
        "\n",
        "    def forward(self, x, y, y_mask=None):\n",
        "        heads1 = []\n",
        "        heads2 = []\n",
        "\n",
        "        # FIRST ATTENTION LAYER\n",
        "        ''' Same as encoder, but here we have tgt(target) as the decoder's input '''\n",
        "        for i in range(self.d_h):\n",
        "            Q = self.linears[3*i](y) # Query Matrix\n",
        "            K = self.linears[3*i+1](y) # Key Matrix\n",
        "            V = self.linears[3*i+2](y) # Value Matrix\n",
        "            scaledMat = Q @ K.transpose(-1, -2) / math.sqrt(self.d_k) # Matrix mul. of Q and K.T -> Scale\n",
        "            if y_mask is not None:\n",
        "                scaledMat = scaledMat.masked_fill(y_mask==0, -1e9)\n",
        "            soft = F.softmax(scaledMat, dim=-1) # Softmax\n",
        "            soft = self.dropout1(soft)\n",
        "            head =  soft @ V\n",
        "            heads1.append(head) # Appending a single head\n",
        "        Z1 = self.firstLinear(torch.cat((heads1), dim=-1)) # Concatenated heads of the First Attention Layer\n",
        "        Z1 = self.normalize(y + Z1) # First Normalizing Layer\n",
        "\n",
        "        # SECOND ATTENTION LAYER\n",
        "        ''' Attention layer, instead of V and K matrices, we use the output of the encoder '''\n",
        "        for i in range(self.d_h):\n",
        "            scaledMat = Z1 @ x.transpose(-1, -2) / math.sqrt(self.d_k) # Matrix mul. of Q and encoderOutput.T -> Scale\n",
        "            soft = F.softmax(scaledMat, dim=-1) # Softmax\n",
        "            soft = self.dropout2(soft)\n",
        "            head = soft @ x\n",
        "            heads2.append(head) # Appending a single head\n",
        "        Z2 = self.secondLinear(torch.cat((heads2), dim=-1)) # Concatenated heads of the Second Attention Layer\n",
        "        Z2 = self.normalize(Z1 + Z2) # Second Normalizing Layer\n",
        "        Z2 = self.normalize(self.feed_forward(Z2) + Z2) # Feed Forward -> Normalize\n",
        "        return Z2"
      ]
    },
    {
      "cell_type": "code",
      "execution_count": 11,
      "metadata": {
        "id": "NFSeeoKTMjIo"
      },
      "outputs": [],
      "source": [
        "class DecoderStack(nn.Module):\n",
        "    def __init__(self, d_model=512, d_ff=2048, d_h=8, dropout=0.1, N=6):\n",
        "        super(DecoderStack, self).__init__()\n",
        "        self.decoders = nn.ModuleList([DecoderLayer(d_model, d_ff, d_h, dropout) for _ in range(N)]) # Stacking Decoder Layer N Times\n",
        "\n",
        "    def forward(self, x, y, y_mask):\n",
        "        for decoder in self.decoders:\n",
        "            y = decoder(x, y, y_mask)\n",
        "        return y"
      ]
    },
    {
      "cell_type": "code",
      "execution_count": 12,
      "metadata": {
        "id": "Tx4vpT4725w3"
      },
      "outputs": [],
      "source": [
        "class Mask(nn.Module):\n",
        "    def __init__(self):\n",
        "        super(Mask, self).__init__()\n",
        "    \n",
        "    def forward(self, batch_size, seq_len1, seq_len2):\n",
        "        mask = (torch.triu(torch.ones((batch_size, seq_len1, seq_len2), dtype=torch.int32), diagonal=1) == 0)\n",
        "        return mask"
      ]
    },
    {
      "cell_type": "code",
      "execution_count": 13,
      "metadata": {
        "id": "P4V-2pak25w4"
      },
      "outputs": [],
      "source": [
        "class Positional_Encoding(nn.Module):\n",
        "    def __init__(self, d_model=512, n=10000):\n",
        "        super(Positional_Encoding, self).__init__()\n",
        "        self.d_model = d_model\n",
        "        self.n = n\n",
        "    def forward(self, seq_len):\n",
        "        P = torch.zeros(seq_len, self.d_model)\n",
        "        for k in range(seq_len):\n",
        "            for i in range(self.d_model // 2):\n",
        "                denominator = math.pow(self.n, 2*i/self.d_model)\n",
        "                P[k, 2*i] = math.sin(k/denominator)\n",
        "                P[k, 2*i+1] = math.cos(k/denominator)\n",
        "        return P"
      ]
    },
    {
      "cell_type": "code",
      "execution_count": 14,
      "metadata": {
        "id": "Eejkpbku25wz"
      },
      "outputs": [],
      "source": [
        "class ModelOutput(nn.Module):\n",
        "    def __init__(self, d_model, vocab_size):\n",
        "        super(ModelOutput, self).__init__()\n",
        "        self.linear = nn.Linear(d_model, vocab_size)\n",
        "    def forward(self, x):\n",
        "        return F.log_softmax(self.linear(x), dim=-1)"
      ]
    },
    {
      "cell_type": "code",
      "execution_count": 15,
      "metadata": {
        "id": "lsNHTQTPMjIo"
      },
      "outputs": [],
      "source": [
        "class Transformer(nn.Module):\n",
        "    def __init__(self, d_model=512, d_h = 8, d_ff=2048, vocab_size=32768, dropout=0.1, num_coder_layers=6):\n",
        "        super(Transformer, self).__init__()\n",
        "        self.d_model = d_model\n",
        "        self.d_h = d_h\n",
        "        self.linear = nn.Linear(d_model, vocab_size)\n",
        "        self.generateProbs = ModelOutput(d_model, vocab_size)\n",
        "        self.dropoutEnc = nn.Dropout(dropout)\n",
        "        self.dropoutDec = nn.Dropout(dropout)\n",
        "        self.embed = Embedding(vocab_size, d_model, pad_mask=1)\n",
        "        self.positional = Positional_Encoding(self.d_model, 10000)\n",
        "        self.masking = Mask()\n",
        "        self.encoderStack = EncoderStack(d_model, d_ff, d_h, dropout, num_coder_layers)\n",
        "        self.decoderStack = DecoderStack(d_model, d_ff, d_h, dropout, num_coder_layers)\n",
        "\n",
        "    def forward(self, x: Tensor, y: Tensor):\n",
        "        assert x.shape[0] == y.shape[0]\n",
        "        batch_dim = x.shape[0]\n",
        "        assert x.shape[1] == y.shape[1]\n",
        "        seq_len = x.shape[1]\n",
        "\n",
        "        y_mask = self.masking(batch_dim, seq_len, seq_len)\n",
        "\n",
        "        x, y = self.embed(x), self.embed(y)\n",
        "\n",
        "        pos_encoding = self.positional(seq_len)\n",
        "\n",
        "        x = pos_encoding + x\n",
        "        y = pos_encoding + y\n",
        "\n",
        "        x, y = self.dropoutEnc(x), self.dropoutDec(y)\n",
        "\n",
        "        encoderOutput = self.encoderStack(x)\n",
        "\n",
        "        decoderOutput = self.decoderStack(encoderOutput, y, y_mask)\n",
        "\n",
        "        probs = self.generateProbs(decoderOutput)\n",
        "\n",
        "        return probs"
      ]
    },
    {
      "cell_type": "code",
      "execution_count": 16,
      "metadata": {
        "id": "n5c2hP21MjIp"
      },
      "outputs": [],
      "source": [
        "model = Transformer(d_model=512, d_h=8, d_ff=2048, vocab_size=VOCAB_SIZE, dropout=0.3, num_coder_layers=3)"
      ]
    },
    {
      "cell_type": "code",
      "execution_count": 17,
      "metadata": {
        "colab": {
          "base_uri": "https://localhost:8080/",
          "height": 1000
        },
        "id": "3OfIu8IFjmbt",
        "outputId": "a8e3c56a-2ec1-4c47-befb-140700e968a9"
      },
      "outputs": [
        {
          "name": "stdout",
          "output_type": "stream",
          "text": [
            "###################################################################\n",
            "####################Training begins for epoc  1####################\n",
            "###################################################################\n",
            "Training is complete for epoch  1, average loss for epoch  1: 4.290\n",
            "-------------------------------------------------------------------\n",
            "Accuracy is 66.75 % for epoch  1\n",
            "###################################################################\n",
            "####################Training begins for epoc  2####################\n",
            "###################################################################\n",
            "Training is complete for epoch  2, average loss for epoch  2: 2.809\n",
            "-------------------------------------------------------------------\n",
            "Accuracy is 74.43 % for epoch  2\n",
            "###################################################################\n",
            "####################Training begins for epoc  3####################\n",
            "###################################################################\n",
            "Training is complete for epoch  3, average loss for epoch  3: 2.296\n",
            "-------------------------------------------------------------------\n",
            "Accuracy is 78.79 % for epoch  3\n",
            "###################################################################\n",
            "####################Training begins for epoc  4####################\n",
            "###################################################################\n",
            "Training is complete for epoch  4, average loss for epoch  4: 1.985\n",
            "-------------------------------------------------------------------\n",
            "Accuracy is 81.49 % for epoch  4\n",
            "###################################################################\n",
            "####################Training begins for epoc  5####################\n",
            "###################################################################\n",
            "Training is complete for epoch  5, average loss for epoch  5: 1.771\n",
            "-------------------------------------------------------------------\n",
            "Accuracy is 83.08 % for epoch  5\n",
            "###################################################################\n",
            "####################Training begins for epoc  6####################\n",
            "###################################################################\n",
            "Training is complete for epoch  6, average loss for epoch  6: 1.610\n",
            "-------------------------------------------------------------------\n",
            "Accuracy is 84.32 % for epoch  6\n",
            "###################################################################\n",
            "####################Training begins for epoc  7####################\n",
            "###################################################################\n",
            "Training is complete for epoch  7, average loss for epoch  7: 1.485\n",
            "-------------------------------------------------------------------\n",
            "Accuracy is 85.41 % for epoch  7\n",
            "###################################################################\n",
            "####################Training begins for epoc  8####################\n",
            "###################################################################\n",
            "Training is complete for epoch  8, average loss for epoch  8: 1.383\n",
            "-------------------------------------------------------------------\n",
            "Accuracy is 86.31 % for epoch  8\n",
            "###################################################################\n",
            "####################Training begins for epoc  9####################\n",
            "###################################################################\n",
            "Training is complete for epoch  9, average loss for epoch  9: 1.295\n",
            "-------------------------------------------------------------------\n",
            "Accuracy is 87.31 % for epoch  9\n",
            "###################################################################\n",
            "####################Training begins for epoc 10####################\n",
            "###################################################################\n",
            "Training is complete for epoch 10, average loss for epoch 10: 1.220\n",
            "-------------------------------------------------------------------\n",
            "Accuracy is 88.09 % for epoch 10\n",
            "###################################################################\n",
            "####################Training begins for epoc 11####################\n",
            "###################################################################\n",
            "Training is complete for epoch 11, average loss for epoch 11: 1.153\n",
            "-------------------------------------------------------------------\n",
            "Accuracy is 88.67 % for epoch 11\n",
            "###################################################################\n",
            "####################Training begins for epoc 12####################\n",
            "###################################################################\n",
            "Training is complete for epoch 12, average loss for epoch 12: 1.095\n",
            "-------------------------------------------------------------------\n",
            "Accuracy is 89.21 % for epoch 12\n",
            "###################################################################\n",
            "####################Training begins for epoc 13####################\n",
            "###################################################################\n",
            "Training is complete for epoch 13, average loss for epoch 13: 1.043\n",
            "-------------------------------------------------------------------\n",
            "Accuracy is 89.68 % for epoch 13\n",
            "###################################################################\n",
            "####################Training begins for epoc 14####################\n",
            "###################################################################\n",
            "Training is complete for epoch 14, average loss for epoch 14: 0.996\n",
            "-------------------------------------------------------------------\n",
            "Accuracy is 90.14 % for epoch 14\n",
            "###################################################################\n",
            "####################Training begins for epoc 15####################\n",
            "###################################################################\n",
            "Training is complete for epoch 15, average loss for epoch 15: 0.953\n",
            "-------------------------------------------------------------------\n",
            "Accuracy is 90.49 % for epoch 15\n",
            "###################################################################\n",
            "####################Training begins for epoc 16####################\n",
            "###################################################################\n",
            "Training is complete for epoch 16, average loss for epoch 16: 0.915\n",
            "-------------------------------------------------------------------\n",
            "Accuracy is 90.86 % for epoch 16\n",
            "###################################################################\n",
            "####################Training begins for epoc 17####################\n",
            "###################################################################\n",
            "Training is complete for epoch 17, average loss for epoch 17: 0.880\n",
            "-------------------------------------------------------------------\n",
            "Accuracy is 91.09 % for epoch 17\n",
            "###################################################################\n",
            "####################Training begins for epoc 18####################\n",
            "###################################################################\n",
            "Training is complete for epoch 18, average loss for epoch 18: 0.848\n",
            "-------------------------------------------------------------------\n",
            "Accuracy is 91.45 % for epoch 18\n",
            "###################################################################\n",
            "####################Training begins for epoc 19####################\n",
            "###################################################################\n",
            "Training is complete for epoch 19, average loss for epoch 19: 0.818\n",
            "-------------------------------------------------------------------\n",
            "Accuracy is 91.72 % for epoch 19\n",
            "###################################################################\n",
            "####################Training begins for epoc 20####################\n",
            "###################################################################\n",
            "Training is complete for epoch 20, average loss for epoch 20: 0.791\n",
            "-------------------------------------------------------------------\n",
            "Accuracy is 91.93 % for epoch 20\n",
            "Loss graph: \n"
          ]
        },
        {
          "data": {
            "image/png": "[encoded data removed]",
            "text/plain": [
              "<Figure size 432x288 with 1 Axes>"
            ]
          },
          "metadata": {
            "needs_background": "light"
          },
          "output_type": "display_data"
        },
        {
          "name": "stdout",
          "output_type": "stream",
          "text": [
            "\n",
            "\n",
            "Accuracy Graph: \n"
          ]
        },
        {
          "data": {
            "image/png": "[encoded data removed]",
            "text/plain": [
              "<Figure size 432x288 with 1 Axes>"
            ]
          },
          "metadata": {
            "needs_background": "light"
          },
          "output_type": "display_data"
        }
      ],
      "source": [
        "def train_and_eval(model: nn.Module, train_data: DataLoader, test_data: DataLoader, learning_rate: int, padding_idx: int, epoch_num: int):\n",
        "\n",
        "    criterion = nn.NLLLoss(ignore_index=padding_idx)\n",
        "    optimizer = optim.SGD(model.parameters(), lr=learning_rate, momentum=0.9)\n",
        "    graph_x_loss = []\n",
        "    graph_y_loss = []\n",
        "    graph_x_acc = []\n",
        "    graph_y_acc = []\n",
        "\n",
        "    for epoch in range(1, epoch_num+1):\n",
        "\n",
        "        print(\"#\"*67)\n",
        "        print(f'{\"#\"*20}Training begins for epoc {epoch:>2}{\"#\"*20}')\n",
        "        print(\"#\"*67)\n",
        "\n",
        "        loss_arr = []\n",
        "        for i, (src, tgt) in enumerate(train_data):\n",
        "            src, tgt = src.to(device), tgt.to(device)\n",
        "            optimizer.zero_grad()\n",
        "            probs = model(src, tgt).permute(0, 2, 1)\n",
        "            loss = criterion(probs, tgt)\n",
        "            loss_arr.append(loss.item())\n",
        "            loss.backward()\n",
        "            optimizer.step()\n",
        "        avg_loss = np.average(loss_arr)\n",
        "        graph_x_loss.append(epoch)\n",
        "        graph_y_loss.append(avg_loss)\n",
        "        print(f'Training is complete for epoch {epoch:>2}, average loss for epoch {epoch:>2}: {avg_loss:>5.3f}')\n",
        "        print(\"-\"*67)\n",
        "\n",
        "        acc_per_batch=0\n",
        "        test_data_size=0\n",
        "        for src_test, tgt_test in test_data:\n",
        "            test_data_size+=1\n",
        "            src_test, tgt_test = src_test.to(device), tgt_test.to(device)\n",
        "            probs = model(src_test, tgt_test)\n",
        "            pred = torch.argmax(probs, dim=2)\n",
        "            pred_arr = pred.cpu().numpy()\n",
        "            tgt_test_arr = tgt_test.cpu().numpy()\n",
        "            similar_idx_ratio=0\n",
        "            batch_size = tgt_test.shape[0]\n",
        "\n",
        "            for i in range(batch_size):\n",
        "                    \n",
        "                pad_idx_count = np.sum(tgt_test_arr[i] == 1)\n",
        "                sentence_len = tgt.shape[1] - pad_idx_count\n",
        "                similar_idx_ratio += np.sum(pred_arr[i][:sentence_len]==tgt_test_arr[i][:sentence_len]) / sentence_len\n",
        "        \n",
        "            average_similar_idx = similar_idx_ratio / batch_size\n",
        "            acc_per_batch += average_similar_idx\n",
        "    \n",
        "        total_acc = (acc_per_batch / test_data_size)*100\n",
        "        graph_x_acc.append(epoch)\n",
        "        graph_y_acc.append(total_acc)\n",
        "        print(f'Accuracy is {total_acc:>5.2f} % for epoch {epoch:>2}')\n",
        "    \n",
        "    print(\"Loss graph: \")\n",
        "    plt.plot(graph_x_loss, graph_y_loss, color='blue')\n",
        "    plt.title(\"Loss Graph\")\n",
        "    plt.xlabel(\"Number of Epochs\")\n",
        "    plt.ylabel(\"Avg Loss per Epoch\")\n",
        "    plt.show()\n",
        "\n",
        "    print(\"\\n\")\n",
        "\n",
        "    print(\"Accuracy Graph: \")\n",
        "    plt.plot(graph_x_acc, graph_y_acc, color='green')\n",
        "    plt.title(\"Accuracy Graph\")\n",
        "    plt.xlabel(\"Number of Epochs\")\n",
        "    plt.ylabel(\"Accuracy per Epoch\")\n",
        "    plt.show\n",
        "\n",
        "\n",
        "\n",
        "train_and_eval(model, train_dataloader, test_dataloader, learning_rate=0.001, padding_idx=PAD_IDX, epoch_num=20)"
      ]
    },
    {
      "cell_type": "code",
      "execution_count": 18,
      "metadata": {
        "id": "hvc3_CKWi5hJ"
      },
      "outputs": [],
      "source": [
        "torch.save(model.state_dict(), \"modelparams.pth\")\n",
        "torch.save(model, \"model.pth\")"
      ]
    },
    {
      "cell_type": "code",
      "execution_count": null,
      "metadata": {
        "colab": {
          "base_uri": "https://localhost:8080/"
        },
        "id": "-iivYZU-Zh_R",
        "outputId": "6fffa1e1-4184-435d-a5c8-223c7f17784b"
      },
      "outputs": [],
      "source": [
        "model.load_state_dict(torch.load(map_location=torch.device('cpu'), f=\"modelparams.pth\"))\n",
        "model.eval()"
      ]
    },
    {
      "cell_type": "code",
      "execution_count": null,
      "metadata": {
        "id": "pL1Ka42zXlfq",
        "outputId": "ed6ed1d6-e93b-4c22-f132-54220da09454"
      },
      "outputs": [
        {
          "name": "stdout",
          "output_type": "stream",
          "text": [
            "torch.Size([32, 64])\n",
            "torch.Size([32, 64])\n"
          ]
        }
      ],
      "source": [
        "src, tgt = next(iter(test_dataloader))\n",
        "print(src.shape)\n",
        "print(tgt.shape)"
      ]
    },
    {
      "cell_type": "code",
      "execution_count": null,
      "metadata": {
        "id": "WI6E17_CXlfr"
      },
      "outputs": [],
      "source": [
        "logits = model(src, tgt)\n",
        "pred = torch.argmax(logits, dim=2)"
      ]
    },
    {
      "cell_type": "code",
      "execution_count": null,
      "metadata": {
        "id": "Rtqy9lxxXlfr",
        "outputId": "60a40bd4-0137-4b2b-bda1-426dd7d53980"
      },
      "outputs": [
        {
          "name": "stdout",
          "output_type": "stream",
          "text": [
            "Example no 0: \n",
            "################################################################################\n",
            "#German text:  Eine Gruppe von Männern lädt Baumwolle auf einen Lastwagen\n",
            "################################################################################\n",
            "#English translation:  A group of men are loading cotton onto a truck\n",
            "################################################################################\n",
            "#Model translation:  A group of men are game ladder onto a truck\n",
            "################################################################################\n",
            "\n",
            "\n",
            "Example no 1: \n",
            "################################################################################\n",
            "#German text:  Ein Mann schläft in einem grünen Raum auf einem Sofa .\n",
            "################################################################################\n",
            "#English translation:  A man sleeping in a green room on a couch .\n",
            "################################################################################\n",
            "#Model translation:  A man sleeping in a green room on a couch .\n",
            "################################################################################\n",
            "\n",
            "\n",
            "Example no 2: \n",
            "################################################################################\n",
            "#German text:  Ein Junge mit Kopfhörern sitzt auf den Schultern einer Frau .\n",
            "################################################################################\n",
            "#English translation:  A boy wearing headphones sits on a woman ' s shoulders .\n",
            "################################################################################\n",
            "#Model translation:  A boy wearing headphones sits on a woman ' s shoulders .\n",
            "################################################################################\n",
            "\n",
            "\n",
            "Example no 3: \n",
            "################################################################################\n",
            "#German text:  Zwei Männer bauen eine blaue Eis f ischer hütte auf einem zuge froren en See auf\n",
            "################################################################################\n",
            "#English translation:  Two men setting up a blue ice fishing hut on an iced over lake\n",
            "################################################################################\n",
            "#Model translation:  Two men setting up a blue ice fishing table on an race over lake\n",
            "################################################################################\n",
            "\n",
            "\n",
            "Example no 4: \n",
            "################################################################################\n",
            "#German text:  Ein Mann mit beginnender Glatze , der eine rote Rettungsweste trägt , sitzt in einem kleinen Boot .\n",
            "################################################################################\n",
            "#English translation:  A balding man wearing a red life jacket is sitting in a small boat .\n",
            "################################################################################\n",
            "#Model translation:  A balding man wearing a red life jacket is sitting in a small boat .\n",
            "################################################################################\n",
            "\n",
            "\n",
            "Example no 5: \n",
            "################################################################################\n",
            "#German text:  Eine Frau in einem rotem Mantel , die eine vermutlich aus Asien st ammen de Handtasche in einem blauen Farbton hält , springt für einen Schnappschuss in die Luft .\n",
            "################################################################################\n",
            "#English translation:  A lady in a red coat , holding a blu ish hand bag likely of asian descent , jumping off the ground for a snap shot .\n",
            "################################################################################\n",
            "#Model translation:  A lady in a red coat , holding a bags plays hand bag shorts of asian phone , jumping off the ground for a and shot .\n",
            "################################################################################\n",
            "\n",
            "\n",
            "Example no 6: \n",
            "################################################################################\n",
            "#German text:  Ein brauner Hund rennt dem schwarzen Hund hinterher .\n",
            "################################################################################\n",
            "#English translation:  A brown dog is running after the black dog .\n",
            "################################################################################\n",
            "#Model translation:  A brown dog is running after the black dog .\n",
            "################################################################################\n",
            "\n",
            "\n",
            "Example no 7: \n",
            "################################################################################\n",
            "#German text:  Ein kleiner Junge mit einem Giants - Trikot schwingt einen Baseballschläger in Richtung eines ankommenden Balls .\n",
            "################################################################################\n",
            "#English translation:  A young boy wearing a Giants jersey swings a baseball bat at an incoming pitch .\n",
            "################################################################################\n",
            "#Model translation:  A young boy wearing a against jersey swings a baseball bat at an her pitch .\n",
            "################################################################################\n",
            "\n",
            "\n",
            "Example no 8: \n",
            "################################################################################\n",
            "#German text:  Ein Mann telefoniert in einem unaufgeräumten Büro\n",
            "################################################################################\n",
            "#English translation:  A man in a cluttered office is using the telephone\n",
            "################################################################################\n",
            "#Model translation:  A man in a outside office is using the of\n",
            "################################################################################\n",
            "\n",
            "\n",
            "Example no 9: \n",
            "################################################################################\n",
            "#German text:  Eine lächelnde Frau mit einem pfirsichfarbenen Trägershirt hält ein Mountainbike\n",
            "################################################################################\n",
            "#English translation:  A smiling woman in a peach tank top stands holding a mountain bike\n",
            "################################################################################\n",
            "#Model translation:  A smiling woman in a parade tank top stands holding a mountain bike\n",
            "################################################################################\n",
            "\n",
            "\n"
          ]
        }
      ],
      "source": [
        "for example in range(10):\n",
        "    print(f\"Example no {example}: \")\n",
        "    pad_count = (tgt[example] == PAD_IDX).data.sum().item()\n",
        "    sentence_len = tgt.shape[1] - pad_count\n",
        "    print(\"#\"*80)\n",
        "    print(\"#German text: \", tokenizer.decode(src[example].cpu().numpy().squeeze()))\n",
        "    print(\"#\"*80)\n",
        "    print(\"#English translation: \", tokenizer.decode(tgt[example].cpu().numpy().squeeze()))\n",
        "    print(\"#\"*80)\n",
        "    print(\"#Model translation: \", tokenizer.decode(pred[example][:sentence_len].cpu().numpy().squeeze()))\n",
        "    print(\"#\"*80)\n",
        "    print(\"\\n\")"
      ]
    },
    {
      "cell_type": "code",
      "execution_count": null,
      "metadata": {
        "colab": {
          "base_uri": "https://localhost:8080/"
        },
        "id": "Au_0waIyllF0",
        "outputId": "92a159fd-d13f-4671-f33c-dde411576384"
      },
      "outputs": [
        {
          "name": "stdout",
          "output_type": "stream",
          "text": [
            "torch.Size([1, 64])\n"
          ]
        }
      ],
      "source": [
        "src, _ = next(iter(test_dataloader))\n",
        "src = src[:1]\n",
        "print(src.shape)"
      ]
    },
    {
      "cell_type": "code",
      "execution_count": null,
      "metadata": {
        "id": "YPgMJ93d25w7",
        "outputId": "74267562-126e-4e88-9d62-9da8f84533ad"
      },
      "outputs": [
        {
          "name": "stdout",
          "output_type": "stream",
          "text": [
            "torch.Size([1, 64, 512])\n",
            "tensor([[[ 0.6023,  2.9939,  0.7936,  ..., -1.1592,  0.5735,  1.0952],\n",
            "         [ 0.2030,  2.1087, -0.8055,  ..., -1.2593, -0.3812,  0.3840],\n",
            "         [ 0.0060,  1.4875, -1.1197,  ..., -0.3020, -0.0506, -0.5647],\n",
            "         ...,\n",
            "         [-0.4691,  0.8628, -1.8266,  ..., -0.3426, -0.8681,  0.1060],\n",
            "         [-0.4564,  0.7784, -1.8040,  ..., -0.2701, -0.8272,  0.2649],\n",
            "         [-0.4346,  0.7782, -1.7637,  ..., -0.2142, -0.7127,  0.3019]]],\n",
            "       grad_fn=<NativeLayerNormBackward0>)\n",
            "torch.Size([1, 1])\n",
            "tensor([[2]], dtype=torch.int32)\n",
            "torch.Size([1, 1, 512])\n",
            "torch.Size([1, 1, 512])\n",
            "torch.Size([1, 1, 512])\n",
            "tensor([[[-1.0620e+01,  2.1901e+01,  4.8903e+01,  2.6261e+01,  3.4013e+01,\n",
            "          -1.1546e+01, -5.0398e+00, -5.5647e+00,  1.1452e+01, -3.0138e+01,\n",
            "           1.6622e+01,  1.5119e+01,  9.6168e+00,  1.2807e+01, -8.9522e+00,\n",
            "           2.2811e+00,  1.3801e+01,  2.7980e+01,  1.3840e+01, -4.0438e+01,\n",
            "          -1.5522e+01, -1.1496e+01,  1.5938e+01,  2.7592e+01, -4.0819e+00,\n",
            "           4.9961e+00,  8.0287e+00,  1.5039e+01, -1.2988e+01,  4.6420e+01,\n",
            "           2.4124e+01, -3.9039e+01,  7.3013e+00, -2.1411e+01, -6.4544e-01,\n",
            "           1.9154e+01, -2.9172e+01,  4.6876e+01,  9.5456e+00,  5.4464e+01,\n",
            "          -1.1586e+01, -1.5352e+01,  9.1789e+00,  1.1394e+01, -1.1391e+01,\n",
            "          -4.4404e+00,  1.3445e+01,  1.8605e+01, -5.2610e+00,  7.0708e+00,\n",
            "          -4.7168e+01, -2.0185e-01,  1.6492e+01,  6.5306e+00,  4.8067e+01,\n",
            "          -1.5629e+01,  1.6738e+01,  3.6814e+01,  5.7833e+00,  4.2179e+00,\n",
            "           1.2478e+01, -4.4975e+00, -2.3792e+01, -1.6656e+01, -1.8063e+01,\n",
            "           1.3756e+01, -5.7748e+00,  1.8049e+01, -1.0415e+01, -3.2776e+00,\n",
            "          -1.0070e+01, -1.0833e+01,  2.6889e+00, -1.2195e+01, -1.4200e+01,\n",
            "          -1.8333e-01,  1.9120e+01,  3.9204e+00, -8.1721e+00,  1.5157e+01,\n",
            "           1.7567e+01, -1.9141e+01,  6.9286e+00,  3.7684e+00, -2.5494e+00,\n",
            "          -1.2790e+01, -9.7310e+00, -3.8151e+01,  6.4438e+00, -1.8935e+01,\n",
            "          -2.3335e+01,  3.1514e+01, -8.2791e-01,  7.6457e+00, -8.7787e+00,\n",
            "          -9.4605e+00, -2.2490e+01,  6.1022e+01,  4.1361e+01,  4.2338e+00,\n",
            "           1.6275e+00,  2.9331e+01, -3.7901e+01,  3.7419e+00, -1.6043e+01,\n",
            "           4.0532e+01, -3.7662e-01,  1.9230e+01, -1.6904e+01,  1.7564e+01,\n",
            "           2.3848e+01, -1.6058e+01,  1.7045e+01, -8.5616e+00,  7.6693e+00,\n",
            "           1.0888e+01,  4.2762e-01,  3.0511e+01, -6.6134e+00,  3.9080e+00,\n",
            "           2.1457e+01,  2.1087e+01, -2.9520e+01,  5.8783e+00,  3.0585e+01,\n",
            "          -3.0922e+00, -1.6363e+01, -2.7166e+01, -8.8279e+00,  1.7369e+01,\n",
            "          -7.5245e+00,  1.9780e+01, -1.0668e+01,  4.1661e+01,  1.8297e+01,\n",
            "          -3.1973e+01, -1.0396e+01,  1.8853e+01,  5.0777e+01,  2.4758e+01,\n",
            "          -3.3471e+00, -2.2312e+01, -1.8059e+01, -6.8795e+00, -7.0569e+00,\n",
            "           2.0346e+01, -1.8506e+01, -1.8044e+01,  1.7107e+01, -1.3727e+01,\n",
            "          -1.9402e+00,  1.2955e+01, -3.8421e+01,  1.9267e+01,  1.4306e+01,\n",
            "          -5.2014e+00, -3.0895e+01,  1.6449e+01, -2.8193e+01,  1.8023e+01,\n",
            "           3.0019e+00,  5.2734e+00, -4.7215e+01, -7.4680e-01, -2.1279e+01,\n",
            "          -2.1823e+00,  4.3182e+01,  2.9131e+01, -1.0060e+01, -2.7988e+01,\n",
            "          -1.1330e+01,  3.7140e+01, -2.1264e+01,  4.4287e+00, -2.2076e+01,\n",
            "          -2.9727e+00,  2.7097e+00, -3.1204e+00,  1.3895e+01, -1.5299e+01,\n",
            "           1.6461e+01, -3.5859e+01,  2.4369e+01, -5.3239e+00,  1.2628e+01,\n",
            "          -2.8196e+01,  1.1186e+01, -6.2712e-01,  2.0730e+01,  2.0843e+01,\n",
            "          -3.3266e+01, -3.0790e+01,  8.5162e+00,  3.1926e+00, -6.1707e+00,\n",
            "          -7.2838e+00, -3.6073e+01, -1.9172e+01,  4.6984e+00, -4.0629e+00,\n",
            "          -2.2534e+01, -8.6934e+00, -3.0304e+01,  7.0279e+00,  1.0483e+00,\n",
            "           4.5903e+01,  1.8864e+01,  1.0391e+01,  8.3962e+00,  5.2082e+01,\n",
            "          -7.6150e+00, -1.1926e+01,  9.2093e+00,  1.8495e+01, -1.6043e+01,\n",
            "           2.0133e+01, -4.3444e+00,  2.0766e+01,  4.6139e+00,  2.3181e+01,\n",
            "          -2.3671e+01, -1.5072e+01, -2.8981e+01,  1.2628e+01,  3.9807e+00,\n",
            "          -4.5378e+01,  2.5026e+01,  2.9552e+00,  4.0433e+01, -4.5159e+01,\n",
            "          -1.8112e+01, -1.2840e+01, -4.0708e+01,  5.6131e+01,  5.9475e-01,\n",
            "           2.5862e+01,  6.8725e+00, -1.6978e+00, -4.6364e+00,  1.6794e+01,\n",
            "          -5.2472e+00, -9.9898e+00, -3.5363e+01, -2.3497e+00,  1.0204e+01,\n",
            "          -2.5004e+01,  7.6240e+00, -3.8127e+00, -1.9374e+01, -2.5116e+01,\n",
            "          -3.8040e+00,  4.3999e+01,  1.8137e+01,  4.2748e+00, -1.2424e+00,\n",
            "           3.8045e+00, -4.7278e+01, -5.1636e+00, -3.1406e-02, -1.2008e+01,\n",
            "          -1.1527e+01,  5.8229e-01,  4.4599e+01, -4.4855e+01, -4.9090e+00,\n",
            "          -6.0770e+00, -1.9161e+01,  3.1767e+01,  1.6031e-01, -4.2371e+00,\n",
            "           1.4265e+01,  8.3853e+00, -4.1401e+01,  3.1617e+01, -1.2961e+01,\n",
            "          -1.7701e+01,  1.4471e+01,  1.0174e-01,  1.3750e+01, -1.5829e+01,\n",
            "           1.8772e+01, -4.5066e+00, -4.6798e+01, -1.3768e+01, -1.8732e+01,\n",
            "          -1.3085e+01, -3.5796e+01, -5.1496e+01,  7.9654e+00,  3.0609e+01,\n",
            "          -5.8099e+01, -1.8770e+01,  1.7524e+00,  3.2727e+01, -8.2499e+00,\n",
            "          -1.1778e+00, -9.5234e+00, -1.8938e+01,  2.4385e+01,  4.7039e+00,\n",
            "           1.8165e+01, -1.7965e+01,  1.8716e+01,  2.3689e+01,  1.0516e+01,\n",
            "          -1.4169e+01,  4.0985e+01,  5.3112e+00, -8.0065e+00,  1.1892e+01,\n",
            "           2.9486e+01, -2.0805e+01,  9.2973e+00,  4.2463e+01, -2.7330e+01,\n",
            "          -3.9095e+00, -1.8842e+01,  2.4001e+01, -1.6334e+01, -1.1047e+01,\n",
            "           1.4659e+01, -1.1675e+01,  3.6967e+01,  3.0665e+01, -1.6738e+01,\n",
            "           2.2955e+01, -1.0788e+01,  6.9832e+00, -1.1111e+01,  9.1811e+00,\n",
            "          -1.4203e+01,  1.6586e+00, -1.9824e+01, -3.3633e+01, -1.3471e+01,\n",
            "           4.5377e+01,  3.6142e-01,  3.2555e+01, -2.6047e+01, -1.2065e+01,\n",
            "           2.0625e+00,  6.9309e-01,  3.2084e+00, -3.2657e+01, -2.1050e+01,\n",
            "           3.2180e+01, -4.2827e+01,  1.7088e+01, -9.1197e+00,  2.6372e+01,\n",
            "           1.8874e+01, -2.7093e+01, -3.0511e+01,  1.4198e+01, -8.3716e+00,\n",
            "           7.5311e+01,  1.5256e+01, -2.0531e+01,  2.3273e+01, -1.4689e+01,\n",
            "          -3.6550e+01, -4.1464e+00,  8.2160e+00,  8.8222e+00, -7.5097e-01,\n",
            "          -3.2074e+00,  1.7832e+01,  1.3559e+01,  3.3966e+01,  6.7844e+00,\n",
            "          -7.2302e+00,  2.2420e+01,  2.6357e+01, -9.3827e+00,  5.8057e+00,\n",
            "           1.0855e+01, -1.0360e+01,  1.9662e+01, -2.0181e+01, -6.9148e+00,\n",
            "          -2.2860e+01,  5.8650e+01,  6.2886e+00, -2.9119e+01, -3.3921e+01,\n",
            "          -2.0643e+01, -4.7321e+00, -2.4747e+01, -3.3936e+01, -3.1510e+01,\n",
            "           1.2816e+01,  1.7917e+01, -9.0221e+00, -1.3993e+01,  2.1174e+01,\n",
            "           6.2209e-01, -1.1999e+01, -1.3710e+01, -3.2775e+00, -1.0443e+00,\n",
            "          -8.0989e+00,  2.2143e+01, -1.4092e+01,  5.8517e+00,  1.2273e+01,\n",
            "          -6.0461e+01, -2.0671e-02, -1.9202e+01,  5.6307e+01, -1.5737e+00,\n",
            "           1.3981e+00,  1.4000e+01, -3.2443e+00, -1.5889e+01,  1.7630e+01,\n",
            "          -3.8608e+01,  2.7000e+00,  1.5440e+01, -4.6787e+01,  1.7991e+01,\n",
            "          -9.7201e+00,  9.7134e+00,  5.9801e+00, -9.5009e+00, -1.8849e+01,\n",
            "          -8.1754e+00,  2.8588e+00,  1.2917e+01, -7.3374e-01,  2.5144e+01,\n",
            "           1.3151e+01,  1.5338e+01, -4.0073e+01, -1.0422e+00,  1.2885e+01,\n",
            "          -2.5978e+01, -2.2060e+01, -3.5698e+01, -7.3539e+00, -1.7058e+01,\n",
            "           3.9045e+00, -8.4479e+00,  3.0884e+01,  2.7074e+01,  2.4022e+01,\n",
            "          -1.5334e+01,  3.1622e+00,  1.2593e-01,  7.4735e+00, -2.5946e+01,\n",
            "           9.9413e+00,  2.4047e+01, -2.5470e+01,  1.0079e+01, -7.8727e+00,\n",
            "          -1.4123e+01,  1.3685e+01, -8.8118e+00, -1.5307e+01, -1.8896e+01,\n",
            "           2.2573e+01,  4.0508e+01,  1.0981e+01, -4.0211e-01, -3.4411e+01,\n",
            "           1.2868e+01, -1.0714e+01, -3.4347e+00, -3.7065e+00,  5.5902e+00,\n",
            "          -3.3010e+01,  8.9058e+00, -3.5771e+00,  4.2805e+01,  4.3532e+00,\n",
            "          -2.7364e+00,  1.5051e+01, -1.6193e+01,  6.2680e+01,  1.0263e-01,\n",
            "          -8.7478e+00, -7.1735e+00, -2.4649e+01,  2.5080e+01,  9.0863e+00,\n",
            "           4.8988e+01,  1.5266e+01, -6.4074e+01,  2.4283e+01, -6.1515e+01,\n",
            "          -1.5913e+00,  1.2818e+01, -5.1284e+00, -1.1728e+01, -1.7516e+01,\n",
            "           2.5461e+01, -4.2517e+01,  5.7028e+00, -1.9513e+01, -4.3254e+01,\n",
            "          -1.1814e+01,  2.4642e+01,  1.0629e+01, -4.0964e+00, -2.8524e+01,\n",
            "           2.6734e+01,  4.0267e+01,  7.2179e+00, -1.7040e+01, -3.4969e+00,\n",
            "           1.8964e+01, -1.5938e-01]]], grad_fn=<AddBackward0>)\n",
            "torch.Size([1, 1, 1])\n",
            "tensor([[[True]]])\n",
            "torch.Size([1, 1, 512])\n",
            "\n"
          ]
        }
      ],
      "source": [
        "def translate(model: nn.Module, source: Tensor, start_token: int, stop_token: int, seq_len: int):\n",
        "    src_pos_enc = model.positional(source.shape[1]).unsqueeze(0)\n",
        "    src_embedding = model.embed(source)\n",
        "    encoderInput = src_embedding + src_pos_enc\n",
        "\n",
        "    encoderOutput = model.encoderStack(encoderInput)\n",
        "    print(encoderOutput.shape)\n",
        "    print(encoderOutput)\n",
        "    sequence = torch.tensor([[start_token]], dtype=torch.int32)\n",
        "    print(sequence.shape)\n",
        "    print(sequence)\n",
        "    for _ in range(1):\n",
        "        \n",
        "        embedded_sequence = model.embed(sequence)\n",
        "        print(embedded_sequence.shape)\n",
        "        seq_pos_enc = model.positional(sequence.shape[1]).unsqueeze(0)\n",
        "        print(seq_pos_enc.shape)\n",
        "        decoderInput = embedded_sequence + seq_pos_enc\n",
        "        print(decoderInput.shape)\n",
        "        print(decoderInput)\n",
        "        subseq_mask = (torch.triu(torch.ones((1, sequence.shape[1], sequence.shape[1]), dtype=torch.int32), diagonal=1) == 0)\n",
        "        print(subseq_mask.shape)\n",
        "        print(subseq_mask)\n",
        "        decoderOutput = model.decoderStack(encoderOutput, decoderInput, subseq_mask)\n",
        "        print(decoderOutput.shape)\n",
        "        raw_word = decoderOutput[:, -1, :]\n",
        "\n",
        "        probs = model.generateProbs(raw_word)\n",
        "        '''all_probs = model.generateProbs(decoderOutput)\n",
        "        _, a = torch.max(probs, dim=1)\n",
        "        print(all_probs.shape)\n",
        "        print(a.data[0])\n",
        "        for i in range(all_probs.shape[1]):\n",
        "            print(torch.argmax(all_probs[:, :i+1, :], -1))'''\n",
        "        generated_word_id = torch.argmax(probs, dim=-1)\n",
        "        \n",
        "        generated_word_tensor = torch.tensor([[generated_word_id]], dtype=torch.int32)\n",
        "\n",
        "        sequence = torch.cat((sequence, generated_word_tensor), dim=1)\n",
        "\n",
        "        if generated_word_id == stop_token:\n",
        "            break\n",
        "    #print(sequence)\n",
        "    translation_ids = sequence.cpu().numpy()\n",
        "\n",
        "    translation = tokenizer.decode(translation_ids.squeeze())\n",
        "\n",
        "    return translation\n",
        "model.eval()\n",
        "translation = translate(model=model, source=src, start_token=BOS_IDX, stop_token=EOS_IDX, seq_len=MAX_LEN)\n",
        "print(translation)"
      ]
    },
    {
      "cell_type": "code",
      "execution_count": null,
      "metadata": {
        "id": "KR0Q2WoxmlKJ"
      },
      "outputs": [],
      "source": [
        "encoded_german = tokenizer.encode(\"Auf der Veranda spielt ein glücklicher Hund.\")\n",
        "german_id_arr = encoded_german.ids\n",
        "\n",
        "german = torch.tensor(german_id_arr).unsqueeze(0)\n",
        "print(german)\n",
        "print(german.shape)\n",
        "\n",
        "translation = translate(model, german, 2, 3, MAX_LEN)"
      ]
    }
  ],
  "metadata": {
    "accelerator": "GPU",
    "colab": {
      "provenance": []
    },
    "gpuClass": "standard",
    "kernelspec": {
      "display_name": "base",
      "language": "python",
      "name": "python3"
    },
    "language_info": {
      "codemirror_mode": {
        "name": "ipython",
        "version": 3
      },
      "file_extension": ".py",
      "mimetype": "text/x-python",
      "name": "python",
      "nbconvert_exporter": "python",
      "pygments_lexer": "ipython3",
      "version": "3.9.13"
    },
    "orig_nbformat": 4,
    "vscode": {
      "interpreter": {
        "hash": "6fb3815109fae185a2989dc67116c03680cdd5befd2823d06e43fcf705655cc7"
      }
    }
  },
  "nbformat": 4,
  "nbformat_minor": 0
}
