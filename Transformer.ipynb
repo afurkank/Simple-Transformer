{
  "cells": [
    {
      "cell_type": "code",
      "execution_count": null,
      "metadata": {
        "colab": {
          "base_uri": "https://localhost:8080/"
        },
        "id": "pWSq1ZN0MjIf",
        "outputId": "5a402236-2a6d-41ee-a889-c06c14816ff2"
      },
      "outputs": [],
      "source": [
        "!pip install tokenizers\n",
        "!pip install torchdata\n",
        "\n",
        "import torch\n",
        "import torch.nn as nn\n",
        "import torch.nn.functional as F\n",
        "import torch.optim as optim\n",
        "import matplotlib.pyplot as plt\n",
        "import numpy as np\n",
        "import math\n",
        "\n",
        "from typing import Tuple\n",
        "from torch import Tensor\n",
        "from torchtext.datasets import Multi30k\n",
        "from torch.utils.data import DataLoader\n",
        "from tokenizers import Tokenizer\n",
        "from tokenizers.models import BPE\n",
        "from tokenizers.trainers import BpeTrainer\n",
        "from tokenizers.pre_tokenizers import Whitespace\n",
        "from tokenizers.processors import TemplateProcessing"
      ]
    },
    {
      "cell_type": "code",
      "execution_count": 3,
      "metadata": {
        "id": "M1dD0NMEMjIh"
      },
      "outputs": [],
      "source": [
        "'''Hyperparameters'''\n",
        "\n",
        "''' Data Parameters '''\n",
        "MAX_LEN = 64\n",
        "VOCAB_SIZE = 32768\n",
        "UNK_IDX, PAD_IDX, BOS_IDX, EOS_IDX = 0, 1, 2, 3\n",
        "BATCH_SIZE = 128\n",
        "SRC_LANGUAGE = 'de'\n",
        "TGT_LANGUAGE = 'en'\n",
        "''' Model Parameters '''\n",
        "D_MODEL = 512\n",
        "D_H = 8\n",
        "D_FF = 2048\n",
        "EMBEDDING_SIZE = 512\n",
        "N = 3\n",
        "''' Training Parameters '''\n",
        "DROPOUT = 0.1\n",
        "LR = 0.0001\n",
        "BETAS = (0.9, 0.98)\n",
        "EPS = 1e-9\n",
        "EPOCHS = 15\n",
        "DEVICE = torch.device(\"cuda:0\" if torch.cuda.is_available() else \"cpu\")"
      ]
    },
    {
      "cell_type": "code",
      "execution_count": 4,
      "metadata": {
        "id": "l7QQ1zDWMjIj"
      },
      "outputs": [],
      "source": [
        "SRC_LANGUAGE = 'de'\n",
        "TGT_LANGUAGE = 'en'\n",
        "\n",
        "train_iter = Multi30k(split='train', language_pair=(SRC_LANGUAGE, TGT_LANGUAGE))\n",
        "\n",
        "f = open(\"parallelcorpus.txt\", \"a\")\n",
        "\n",
        "for i in train_iter:\n",
        "  for x in [x.rstrip(\"\\n\") for x in i]:\n",
        "    f.write(x)\n",
        "    f.write(' ')\n",
        "\n",
        "f.close()"
      ]
    },
    {
      "cell_type": "code",
      "execution_count": 5,
      "metadata": {
        "id": "AO-nW7opMjIk"
      },
      "outputs": [],
      "source": [
        "tokenizer = Tokenizer(BPE(unk_token=\"[UNK]\"))\n",
        "trainer = BpeTrainer(vocab_size=VOCAB_SIZE, special_tokens=[\"[UNK]\", \"[PAD]\", \"[BOS]\", \"[EOS]\"])\n",
        "tokenizer.pre_tokenizer = Whitespace()\n",
        "tokenizer.train(['parallelcorpus.txt'], trainer)\n",
        "\n",
        "tokenizer.enable_padding(pad_id=1, length=MAX_LEN)\n",
        "tokenizer.post_processor = TemplateProcessing(\n",
        "    single=\"[BOS] $A [EOS]\",\n",
        "    special_tokens=[\n",
        "        (\"[BOS]\", tokenizer.token_to_id(\"[BOS]\")),\n",
        "        (\"[EOS]\", tokenizer.token_to_id(\"[EOS]\")),\n",
        "    ],\n",
        ")\n",
        "\n",
        "def collate_fn(batch):\n",
        "    src_batch, tgt_batch = [], []\n",
        "    for src_sample, tgt_sample in batch:\n",
        "        src_enc = tokenizer.encode(src_sample.rstrip(\"\\n\"))\n",
        "        src_batch.append(torch.tensor(src_enc.ids))\n",
        "\n",
        "        tgt_enc = tokenizer.encode(tgt_sample.rstrip(\"\\n\"))\n",
        "        tgt_batch.append(torch.tensor(tgt_enc.ids))\n",
        "    return torch.stack(src_batch), torch.stack(tgt_batch)"
      ]
    },
    {
      "cell_type": "code",
      "execution_count": 6,
      "metadata": {
        "id": "JUJ3J_o1MjIl"
      },
      "outputs": [],
      "source": [
        "test_iter = Multi30k(split='valid', language_pair=(SRC_LANGUAGE, TGT_LANGUAGE))\n",
        "train_dataloader = DataLoader(train_iter, batch_size=BATCH_SIZE, collate_fn=collate_fn, drop_last=True)\n",
        "test_dataloader = DataLoader(test_iter, batch_size=BATCH_SIZE, collate_fn=collate_fn, drop_last=True)"
      ]
    },
    {
      "cell_type": "code",
      "execution_count": 7,
      "metadata": {
        "id": "W3rOmg4YMjIl"
      },
      "outputs": [],
      "source": [
        "class Embedding(nn.Module):\n",
        "    def __init__(self, vocab_size=32678, embedding_size=512, pad_mask=1):\n",
        "        super(Embedding, self).__init__()\n",
        "        self.embedding_size = embedding_size\n",
        "        self.emb = nn.Embedding(num_embeddings=vocab_size, embedding_dim=embedding_size, padding_idx=pad_mask, device=DEVICE)\n",
        "\n",
        "    def forward(self, x):\n",
        "        return self.emb(x) * math.sqrt(self.embedding_size)"
      ]
    },
    {
      "cell_type": "code",
      "execution_count": 8,
      "metadata": {
        "id": "XuvYlXDuMjIm"
      },
      "outputs": [],
      "source": [
        "class EncoderLayer(nn.Module):\n",
        "    def __init__(self, d_model=512, d_ff=2048, d_h=8, dropout=0.1):\n",
        "        super(EncoderLayer, self).__init__()\n",
        "        self.d_h = d_h\n",
        "        self.d_k = d_model // d_h\n",
        "        self.linears = nn.ModuleList([nn.Linear(d_model, self.d_k) for _ in range(d_h*3)])\n",
        "        self.dropout = nn.Dropout(dropout)\n",
        "        self.Linear = nn.Linear(d_model, d_model)\n",
        "        self.normalize1 = nn.LayerNorm(d_model)\n",
        "        self.feed_forward = nn.Sequential(\n",
        "            nn.Linear(d_model, d_ff),\n",
        "            nn.ReLU(),\n",
        "            nn.Dropout(dropout),\n",
        "            nn.Linear(d_ff, d_model)\n",
        "        )\n",
        "        self.normalize2 = nn.LayerNorm(d_model)\n",
        "\n",
        "    def forward(self, x, x_mask=None):\n",
        "        multi_head = []\n",
        "        for i in range(self.d_h):\n",
        "            query = self.linears[3*i](x)\n",
        "            key = self.linears[3*i + 1](x)\n",
        "            value = self.linears[3*i + 2](x)\n",
        "            scaledDotProd = (query @ key.transpose(-1, -2)) / math.sqrt(self.d_k)\n",
        "            if x_mask is not None:\n",
        "                scaledDotProd = scaledDotProd.masked_fill(x_mask==0, float('-inf'))\n",
        "            soft = F.softmax(scaledDotProd, dim=-1)\n",
        "            soft = self.dropout(soft)\n",
        "            attn =  soft @ value\n",
        "            multi_head.append(attn)\n",
        "        selfAttn = self.Linear(torch.cat((multi_head), -1))\n",
        "        addNorm = self.normalize1(x + selfAttn)\n",
        "        encoderOutput = self.normalize2(x + self.feed_forward(addNorm))\n",
        "        return encoderOutput"
      ]
    },
    {
      "cell_type": "code",
      "execution_count": 9,
      "metadata": {
        "id": "cfHw7_VuMjIn"
      },
      "outputs": [],
      "source": [
        "class EncoderStack(nn.Module):\n",
        "    def __init__(self, d_model=512, d_ff=2048, d_h=8, \n",
        "                 dropout=0.1, N=6):\n",
        "        super(EncoderStack, self).__init__()\n",
        "        self.encoders = nn.ModuleList([EncoderLayer(d_model, d_ff, d_h, dropout) for _ in range(N)]) # Stacking Encoder Layer N Times\n",
        "\n",
        "    def forward(self, x, x_mask=None):\n",
        "        for encoder in self.encoders:\n",
        "            x = encoder(x, x_mask)\n",
        "        return x"
      ]
    },
    {
      "cell_type": "code",
      "execution_count": 10,
      "metadata": {
        "id": "gaZLO3lsMjIn"
      },
      "outputs": [],
      "source": [
        "class DecoderLayer(nn.Module):\n",
        "    def __init__(self, d_model=512, d_ff=2048, d_h=8, dropout=0.1):\n",
        "        super(DecoderLayer, self).__init__()\n",
        "        self.d_h = d_h\n",
        "        self.d_k = d_model // d_h\n",
        "        self.linears = nn.ModuleList([nn.Linear(d_model, self.d_k) for _ in range(d_h*3)])\n",
        "        self.dropout1 = nn.Dropout(dropout)\n",
        "        self.firstLinear = nn.Linear(d_h * self.d_k, d_model)\n",
        "        self.normalize1 = nn.LayerNorm(d_model)\n",
        "        self.dropout2 = nn.Dropout(dropout)\n",
        "        self.secondLinear = nn.Linear(d_h * d_model, d_model)\n",
        "        self.normalize2 = nn.LayerNorm(d_model)\n",
        "        self.feed_forward = nn.Sequential(\n",
        "            nn.Linear(d_model, d_ff),\n",
        "            nn.ReLU(),\n",
        "            nn.Dropout(dropout),\n",
        "            nn.Linear(d_ff, d_model)\n",
        "        )\n",
        "        self.normalize3 = nn.LayerNorm(d_model)\n",
        "\n",
        "    def forward(self, x, y, y_mask=None):\n",
        "        multi_head1 = []\n",
        "        multi_head2 = []\n",
        "\n",
        "        # FIRST ATTENTION LAYER\n",
        "        ''' Same as encoder, but here we have tgt(target) as the decoder's input '''\n",
        "        for i in range(self.d_h):\n",
        "            query = self.linears[3*i](y)\n",
        "            key = self.linears[3*i+1](y)\n",
        "            value = self.linears[3*i+2](y)\n",
        "            scaledDotProd = (query @ key.transpose(-1, -2)) / math.sqrt(self.d_k)\n",
        "            if y_mask is not None:\n",
        "                scaledDotProd = scaledDotProd.masked_fill(y_mask==0, float('-inf'))\n",
        "            soft = F.softmax(scaledDotProd, dim=-1)\n",
        "            soft = self.dropout1(soft)\n",
        "            attn =  soft @ value\n",
        "            multi_head1.append(attn)\n",
        "        selfAttn = self.firstLinear(torch.cat((multi_head1), dim=-1))\n",
        "        addNorm1 = self.normalize1(y + selfAttn)\n",
        "\n",
        "        # SECOND ATTENTION LAYER\n",
        "        ''' Attention layer, instead of V and K matrices, we use the output of the encoder '''\n",
        "        for i in range(self.d_h):\n",
        "            scaledDotProd = (addNorm1 @ x.transpose(-1, -2)) / math.sqrt(self.d_k)\n",
        "            soft = F.softmax(scaledDotProd, dim=-1)\n",
        "            soft = self.dropout2(soft)\n",
        "            attn = soft @ x\n",
        "            multi_head2.append(attn)\n",
        "        crossAttn = self.secondLinear(torch.cat((multi_head2), dim=-1))\n",
        "        addNorm2 = self.normalize2(y + crossAttn)\n",
        "        decoderOutput = self.normalize3(y + self.feed_forward(addNorm2))\n",
        "        return decoderOutput"
      ]
    },
    {
      "cell_type": "code",
      "execution_count": 11,
      "metadata": {
        "id": "NFSeeoKTMjIo"
      },
      "outputs": [],
      "source": [
        "class DecoderStack(nn.Module):\n",
        "    def __init__(self, d_model=512, d_ff=2048, d_h=8, \n",
        "                 dropout=0.1, N=6):\n",
        "        super(DecoderStack, self).__init__()\n",
        "        self.decoders = nn.ModuleList([DecoderLayer(d_model, d_ff, d_h, dropout) for _ in range(N)]) # Stacking Decoder Layer N Times\n",
        "\n",
        "    def forward(self, x, y, y_mask=None):\n",
        "        for decoder in self.decoders:\n",
        "            y = decoder(x, y, y_mask)\n",
        "        return y"
      ]
    },
    {
      "cell_type": "code",
      "execution_count": 12,
      "metadata": {
        "id": "Tx4vpT4725w3"
      },
      "outputs": [],
      "source": [
        "class Mask(nn.Module):\n",
        "    def __init__(self):\n",
        "        super(Mask, self).__init__()\n",
        "    \n",
        "    def forward(self, batch_dim, seq_len):\n",
        "        mask = torch.tril(torch.ones((batch_dim, seq_len, seq_len), device=DEVICE))\n",
        "        return mask"
      ]
    },
    {
      "cell_type": "code",
      "execution_count": 13,
      "metadata": {
        "id": "P4V-2pak25w4"
      },
      "outputs": [],
      "source": [
        "class Positional_Encoding(nn.Module):\n",
        "    def __init__(self, embedding_size=512, n=10000):\n",
        "        super(Positional_Encoding, self).__init__()\n",
        "        self.embedding_size = embedding_size\n",
        "        self.n = n\n",
        "    def forward(self, seq_len):\n",
        "        P = torch.zeros(seq_len, self.embedding_size, device=DEVICE)\n",
        "        for k in range(seq_len):\n",
        "            for i in range(self.embedding_size // 2):\n",
        "                denominator = math.pow(self.n, 2*i/self.embedding_size)\n",
        "                P[k, 2*i] = math.sin(k/denominator)\n",
        "                P[k, 2*i+1] = math.cos(k/denominator)\n",
        "        return P"
      ]
    },
    {
      "cell_type": "code",
      "execution_count": 14,
      "metadata": {
        "id": "Eejkpbku25wz"
      },
      "outputs": [],
      "source": [
        "class GenerateLogits(nn.Module):\n",
        "    def __init__(self, d_model, vocab_size):\n",
        "        super(GenerateLogits, self).__init__()\n",
        "        self.linear = nn.Linear(d_model, vocab_size)\n",
        "    def forward(self, x):\n",
        "        return self.linear(x)"
      ]
    },
    {
      "cell_type": "code",
      "execution_count": 15,
      "metadata": {
        "id": "lsNHTQTPMjIo"
      },
      "outputs": [],
      "source": [
        "class Transformer(nn.Module):\n",
        "    def __init__(self, d_model=512, d_h = 8, d_ff=2048, \n",
        "                 embedding_size=512, vocab_size=32768, \n",
        "                 dropout=0.1, num_coder_layers=6):\n",
        "        super(Transformer, self).__init__()\n",
        "        self.embed = Embedding(vocab_size, embedding_size, pad_mask=1)\n",
        "        self.positional = Positional_Encoding(embedding_size, 10000)\n",
        "        self.masking = Mask()\n",
        "        self.dropout1 = nn.Dropout(dropout)\n",
        "        self.dropout2 = nn.Dropout(dropout)\n",
        "        self.encoderStack = EncoderStack(d_model, d_ff, d_h, dropout, num_coder_layers)\n",
        "        self.decoderStack = DecoderStack(d_model, d_ff, d_h, dropout, num_coder_layers)\n",
        "        self.generate = GenerateLogits(d_model, vocab_size)\n",
        "\n",
        "    def forward(self, x: Tensor, y: Tensor):\n",
        "        assert x.shape[0] == y.shape[0]\n",
        "        batch_dim = x.shape[0]\n",
        "        src_seq_len, tgt_seq_len = x.shape[1], y.shape[1]\n",
        "        x_pos_encoding = self.positional(src_seq_len)\n",
        "        y_pos_encoding = self.positional(tgt_seq_len)\n",
        "        x_mask = self.masking(batch_dim, src_seq_len)\n",
        "        y_mask = self.masking(batch_dim, tgt_seq_len)\n",
        "        x, y = self.embed(x), self.embed(y)\n",
        "        x, y = x_pos_encoding + x, y_pos_encoding + y\n",
        "        x, y = self.dropout1(x), self.dropout2(y)\n",
        "        encoderOutput = self.encoderStack(x, x_mask)\n",
        "        decoderOutput = self.decoderStack(encoderOutput, y, y_mask)\n",
        "        logits = self.generate(decoderOutput)\n",
        "        return logits"
      ]
    },
    {
      "cell_type": "code",
      "execution_count": 16,
      "metadata": {
        "id": "n5c2hP21MjIp"
      },
      "outputs": [],
      "source": [
        "model = Transformer(d_model=D_MODEL, d_h=D_H, d_ff=D_FF, \n",
        "                    embedding_size=EMBEDDING_SIZE, \n",
        "                    vocab_size=VOCAB_SIZE, dropout=DROPOUT, \n",
        "                    num_coder_layers=N)\n",
        "model = model.to(DEVICE)"
      ]
    },
    {
      "attachments": {},
      "cell_type": "markdown",
      "metadata": {},
      "source": [
        "# Training the model:"
      ]
    },
    {
      "cell_type": "code",
      "execution_count": null,
      "metadata": {
        "id": "z152c5EJWXYm"
      },
      "outputs": [],
      "source": [
        "torch.manual_seed(0)\n",
        "\n",
        "for p in model.parameters():\n",
        "    if p.dim() > 1:\n",
        "        nn.init.xavier_uniform_(p)"
      ]
    },
    {
      "cell_type": "code",
      "execution_count": null,
      "metadata": {
        "id": "4DglT1Wd8LM0"
      },
      "outputs": [],
      "source": [
        "@torch.no_grad()\n",
        "def compute_test_loss(model: nn.Module, test_data: DataLoader, \n",
        "                      padding_index: int):\n",
        "    model.eval()\n",
        "    criterion = nn.CrossEntropyLoss(ignore_index=padding_index)\n",
        "    loss = []\n",
        "    for src, tgt in test_data:\n",
        "        src, tgt = src.to(DEVICE), tgt.to(DEVICE)\n",
        "        tgt_in = tgt[:, :-1] # inputs shifted left\n",
        "        tgt_out = tgt[:, 1:] # labels shifted right\n",
        "        logits = model(src, tgt_in).permute(0, 2, 1)\n",
        "        loss.append(criterion(logits, tgt_out).item())\n",
        "    average_loss = np.average(loss)\n",
        "    model.train()\n",
        "    return average_loss"
      ]
    },
    {
      "cell_type": "code",
      "execution_count": null,
      "metadata": {
        "id": "3OfIu8IFjmbt"
      },
      "outputs": [],
      "source": [
        "def train(model: nn.Module, train_data: DataLoader, \n",
        "          test_data: DataLoader, learning_rate: int, \n",
        "          padding_idx: int, epoch_num: int, betas: Tuple, eps: int):\n",
        "    \n",
        "    model.train()\n",
        "\n",
        "    criterion = nn.CrossEntropyLoss(ignore_index=padding_idx)\n",
        "    optimizer = optim.Adam(model.parameters(), lr=learning_rate, betas=betas, eps=eps)\n",
        "    batch_train_loss = []\n",
        "    epoch_test_loss = []\n",
        "\n",
        "    for epoch in range(0, epoch_num):\n",
        "        print(\"#\"*67)\n",
        "        print(f'{\"#\"*20}Training begins for epoc {epoch:>2}{\"#\"*20}')\n",
        "        print(\"#\"*67)\n",
        "        epoch_train_loss = []\n",
        "        for _, (src, tgt) in enumerate(train_data):\n",
        "            src, tgt = src.to(DEVICE), tgt.to(DEVICE)\n",
        "            tgt_in = tgt[:, :-1] # inputs shifted left\n",
        "            \n",
        "            logits = model(src, tgt_in).permute(0, 2, 1)\n",
        "            optimizer.zero_grad()\n",
        "            \n",
        "            tgt_out = tgt[:, 1:] # labels shifted right\n",
        "            loss = criterion(logits, tgt_out)\n",
        "            loss.backward()\n",
        "            optimizer.step()\n",
        "\n",
        "            epoch_train_loss.append(loss.item())\n",
        "            batch_train_loss.append(loss.item())\n",
        "    \n",
        "        ep_train_loss = np.average(epoch_train_loss)\n",
        "        print(f'Training is complete for epoch {epoch:>2}, average training loss for epoch {epoch:>2}: {ep_train_loss:>5.3f}')\n",
        "        test_loss = compute_test_loss(model, test_data, padding_idx)\n",
        "        print(f'Test loss for epoch {epoch:>2}: {test_loss:>5.3f}')\n",
        "        epoch_test_loss.append(test_loss)\n",
        "        print(\"-\"*67)\n",
        "    plt.plot(batch_train_loss, color='blue')\n",
        "    plt.title(\"Batch Loss Graph\")\n",
        "    plt.xlabel(\"Hundred Batches\")\n",
        "    plt.ylabel(\"Loss per Batch\")\n",
        "    plt.show()\n",
        "\n",
        "    plt.plot(epoch_test_loss, color='purple', label='Epoch Test Loss')\n",
        "    plt.title(\"Epoch Test Loss Graph\")\n",
        "    plt.xlabel(\"Epoch\")\n",
        "    plt.ylabel(\"Loss\")\n",
        "    plt.show()"
      ]
    },
    {
      "cell_type": "code",
      "execution_count": null,
      "metadata": {
        "colab": {
          "base_uri": "https://localhost:8080/",
          "height": 1000
        },
        "id": "1H4dfSdBLWPN",
        "outputId": "2c92f064-64ac-411d-e19a-bba4db051240"
      },
      "outputs": [
        {
          "name": "stdout",
          "output_type": "stream",
          "text": [
            "###################################################################\n",
            "####################Training begins for epoc  0####################\n",
            "###################################################################\n",
            "Training is complete for epoch  0, average training loss for epoch  0: 5.871\n",
            "Test loss for epoch  0: 4.516\n",
            "-------------------------------------------------------------------\n",
            "###################################################################\n",
            "####################Training begins for epoc  1####################\n",
            "###################################################################\n",
            "Training is complete for epoch  1, average training loss for epoch  1: 4.011\n",
            "Test loss for epoch  1: 3.628\n",
            "-------------------------------------------------------------------\n",
            "###################################################################\n",
            "####################Training begins for epoc  2####################\n",
            "###################################################################\n",
            "Training is complete for epoch  2, average training loss for epoch  2: 3.378\n",
            "Test loss for epoch  2: 3.196\n",
            "-------------------------------------------------------------------\n",
            "###################################################################\n",
            "####################Training begins for epoc  3####################\n",
            "###################################################################\n",
            "Training is complete for epoch  3, average training loss for epoch  3: 2.974\n",
            "Test loss for epoch  3: 2.883\n",
            "-------------------------------------------------------------------\n",
            "###################################################################\n",
            "####################Training begins for epoc  4####################\n",
            "###################################################################\n",
            "Training is complete for epoch  4, average training loss for epoch  4: 2.661\n",
            "Test loss for epoch  4: 2.697\n",
            "-------------------------------------------------------------------\n",
            "###################################################################\n",
            "####################Training begins for epoc  5####################\n",
            "###################################################################\n",
            "Training is complete for epoch  5, average training loss for epoch  5: 2.409\n",
            "Test loss for epoch  5: 2.521\n",
            "-------------------------------------------------------------------\n",
            "###################################################################\n",
            "####################Training begins for epoc  6####################\n",
            "###################################################################\n",
            "Training is complete for epoch  6, average training loss for epoch  6: 2.193\n",
            "Test loss for epoch  6: 2.399\n",
            "-------------------------------------------------------------------\n",
            "###################################################################\n",
            "####################Training begins for epoc  7####################\n",
            "###################################################################\n",
            "Training is complete for epoch  7, average training loss for epoch  7: 2.017\n",
            "Test loss for epoch  7: 2.296\n",
            "-------------------------------------------------------------------\n",
            "###################################################################\n",
            "####################Training begins for epoc  8####################\n",
            "###################################################################\n",
            "Training is complete for epoch  8, average training loss for epoch  8: 1.858\n",
            "Test loss for epoch  8: 2.232\n",
            "-------------------------------------------------------------------\n",
            "###################################################################\n",
            "####################Training begins for epoc  9####################\n",
            "###################################################################\n",
            "Training is complete for epoch  9, average training loss for epoch  9: 1.728\n",
            "Test loss for epoch  9: 2.173\n",
            "-------------------------------------------------------------------\n",
            "###################################################################\n",
            "####################Training begins for epoc 10####################\n",
            "###################################################################\n",
            "Training is complete for epoch 10, average training loss for epoch 10: 1.610\n",
            "Test loss for epoch 10: 2.147\n",
            "-------------------------------------------------------------------\n",
            "###################################################################\n",
            "####################Training begins for epoc 11####################\n",
            "###################################################################\n",
            "Training is complete for epoch 11, average training loss for epoch 11: 1.508\n",
            "Test loss for epoch 11: 2.105\n",
            "-------------------------------------------------------------------\n",
            "###################################################################\n",
            "####################Training begins for epoc 12####################\n",
            "###################################################################\n",
            "Training is complete for epoch 12, average training loss for epoch 12: 1.410\n",
            "Test loss for epoch 12: 2.083\n",
            "-------------------------------------------------------------------\n",
            "###################################################################\n",
            "####################Training begins for epoc 13####################\n",
            "###################################################################\n",
            "Training is complete for epoch 13, average training loss for epoch 13: 1.324\n",
            "Test loss for epoch 13: 2.057\n",
            "-------------------------------------------------------------------\n",
            "###################################################################\n",
            "####################Training begins for epoc 14####################\n",
            "###################################################################\n",
            "Training is complete for epoch 14, average training loss for epoch 14: 1.249\n",
            "Test loss for epoch 14: 2.053\n",
            "-------------------------------------------------------------------\n"
          ]
        },
        {
          "data": {
            "image/png": "[encoded data removed]",
            "text/plain": [
              "<Figure size 432x288 with 1 Axes>"
            ]
          },
          "metadata": {
            "needs_background": "light"
          },
          "output_type": "display_data"
        },
        {
          "data": {
            "image/png": "[encoded data removed]",
            "text/plain": [
              "<Figure size 432x288 with 1 Axes>"
            ]
          },
          "metadata": {
            "needs_background": "light"
          },
          "output_type": "display_data"
        }
      ],
      "source": [
        "train(model, train_dataloader, test_dataloader, \n",
        "      learning_rate=LR, padding_idx=PAD_IDX, \n",
        "      epoch_num=EPOCHS, betas=BETAS, eps=EPS)"
      ]
    },
    {
      "attachments": {},
      "cell_type": "markdown",
      "metadata": {},
      "source": [
        "# Model outputs on some of the examples from test set:"
      ]
    },
    {
      "cell_type": "code",
      "execution_count": 22,
      "metadata": {
        "colab": {
          "base_uri": "https://localhost:8080/"
        },
        "id": "pL1Ka42zXlfq",
        "outputId": "3a2963d8-4329-4657-8460-9a5173ee6ecd"
      },
      "outputs": [
        {
          "name": "stdout",
          "output_type": "stream",
          "text": [
            "torch.Size([5, 64])\n",
            "torch.Size([5, 64])\n"
          ]
        }
      ],
      "source": [
        "model.eval()\n",
        "src, tgt = next(iter(test_dataloader))\n",
        "src, tgt = src[:5].to(DEVICE), tgt[:5].to(DEVICE)\n",
        "print(src.shape)\n",
        "print(tgt.shape)"
      ]
    },
    {
      "cell_type": "code",
      "execution_count": 23,
      "metadata": {
        "id": "WI6E17_CXlfr"
      },
      "outputs": [],
      "source": [
        "logits = model(src, tgt)\n",
        "pred = torch.argmax(logits, dim=2)"
      ]
    },
    {
      "cell_type": "code",
      "execution_count": 24,
      "metadata": {
        "colab": {
          "base_uri": "https://localhost:8080/"
        },
        "id": "Rtqy9lxxXlfr",
        "outputId": "511cdfd6-85a3-4ccc-a1cb-5622b9f2726a"
      },
      "outputs": [
        {
          "name": "stdout",
          "output_type": "stream",
          "text": [
            "Example no 0: \n",
            "################################################################################\n",
            "#German text:  Eine Gruppe von Männern lädt Baumwolle auf einen Lastwagen\n",
            "################################################################################\n",
            "#English translation:  A group of men are loading cotton onto a truck\n",
            "################################################################################\n",
            "#Model translation:  A group of men are putting laundry candy a truck . . . . . . . . . . . . . . . . . . . . . . . . . . . . . . . . . . . . .\n",
            "################################################################################\n",
            "\n",
            "\n",
            "Example no 1: \n",
            "################################################################################\n",
            "#German text:  Ein Mann schläft in einem grünen Raum auf einem Sofa .\n",
            "################################################################################\n",
            "#English translation:  A man sleeping in a green room on a couch .\n",
            "################################################################################\n",
            "#Model translation:  A man is on a green room on a couch . . . . . . . . . . . . . . . . . . . . . . . . . . . . . . . . . .\n",
            "################################################################################\n",
            "\n",
            "\n",
            "Example no 2: \n",
            "################################################################################\n",
            "#German text:  Ein Junge mit Kopfhörern sitzt auf den Schultern einer Frau .\n",
            "################################################################################\n",
            "#English translation:  A boy wearing headphones sits on a woman ' s shoulders .\n",
            "################################################################################\n",
            "#Model translation:  A boy with headphones sits on a woman ' s shoulders . . . . . . . . . . . . . . . . . . . . . . . . . . .\n",
            "################################################################################\n",
            "\n",
            "\n",
            "Example no 3: \n",
            "################################################################################\n",
            "#German text:  Zwei Männer bauen eine blaue Eis f ischer hütte auf einem zuge froren en See auf\n",
            "################################################################################\n",
            "#English translation:  Two men setting up a blue ice fishing hut on an iced over lake\n",
            "################################################################################\n",
            "#Model translation:  Two men building up a blue ice cream trip on a outdoor lake a . . . . . . . . . . . . . . . . . . . . . . . . . . . .\n",
            "################################################################################\n",
            "\n",
            "\n",
            "Example no 4: \n",
            "################################################################################\n",
            "#German text:  Ein Mann mit beginnender Glatze , der eine rote Rettungsweste trägt , sitzt in einem kleinen Boot .\n",
            "################################################################################\n",
            "#English translation:  A balding man wearing a red life jacket is sitting in a small boat .\n",
            "################################################################################\n",
            "#Model translation:  A balding man is a red life jacket is being in a small boat . . . . . . . . . . . . . . . . . . . . . . . .\n",
            "################################################################################\n",
            "\n",
            "\n"
          ]
        }
      ],
      "source": [
        "for example in range(5):\n",
        "    print(f\"Example no {example}: \")\n",
        "    '''pad_count = (tgt[example] == PAD_IDX).data.sum().item()\n",
        "    sentence_len = tgt.shape[1] - pad_count'''\n",
        "    print(\"#\"*80)\n",
        "    print(\"#German text: \", tokenizer.decode(src[example].cpu().numpy().squeeze()))\n",
        "    print(\"#\"*80)\n",
        "    print(\"#English translation: \", tokenizer.decode(tgt[example].cpu().numpy().squeeze()))\n",
        "    print(\"#\"*80)\n",
        "    print(\"#Model translation: \", tokenizer.decode(pred[example].cpu().numpy().squeeze()))\n",
        "    print(\"#\"*80)\n",
        "    print(\"\\n\")"
      ]
    },
    {
      "attachments": {},
      "cell_type": "markdown",
      "metadata": {},
      "source": [
        "# Translating a random German sentence from the test set using Greedy Decoding:"
      ]
    },
    {
      "cell_type": "code",
      "execution_count": 25,
      "metadata": {
        "colab": {
          "base_uri": "https://localhost:8080/"
        },
        "id": "taRyHEWTedXi",
        "outputId": "81ec201e-ac06-44d0-d9c4-4a3517474aba"
      },
      "outputs": [
        {
          "name": "stdout",
          "output_type": "stream",
          "text": [
            "torch.Size([1, 64])\n",
            "torch.Size([1, 64])\n"
          ]
        }
      ],
      "source": [
        "src, tgt = next(iter(test_dataloader))\n",
        "src = src[:1]\n",
        "tgt = tgt[:1]\n",
        "print(src.shape)\n",
        "print(tgt.shape)"
      ]
    },
    {
      "cell_type": "code",
      "execution_count": 28,
      "metadata": {
        "colab": {
          "base_uri": "https://localhost:8080/"
        },
        "id": "YPgMJ93d25w7",
        "outputId": "8be4da58-e301-4b08-8c73-53ee90afb325"
      },
      "outputs": [
        {
          "name": "stdout",
          "output_type": "stream",
          "text": [
            "A group of men are loading cotton onto a truck\n",
            "A group of men are putting bubbles on a truck .\n"
          ]
        }
      ],
      "source": [
        "@torch.no_grad()\n",
        "def translate(model: nn.Module, source: Tensor, start_token: int, stop_token: int, seq_len: int):\n",
        "    model.eval()\n",
        "\n",
        "    source = source.to(DEVICE)\n",
        "    src_batch_dim = source.shape[0]\n",
        "    src_seq_len = source.shape[1]\n",
        "\n",
        "    src_mask = model.masking(src_batch_dim, src_seq_len)\n",
        "    src_pos_enc = model.positional(src_seq_len)\n",
        "    src_embedding = model.embed(source)\n",
        "\n",
        "    encoderInput = src_embedding + src_pos_enc\n",
        "\n",
        "    encoderOutput = model.encoderStack(encoderInput, src_mask)\n",
        "\n",
        "    ys = torch.tensor([[start_token]], dtype=torch.int32, device=DEVICE)\n",
        "\n",
        "    for _ in range(seq_len):\n",
        "\n",
        "        tgt_batch_dim = ys.shape[0]\n",
        "        tgt_seq_len = ys.shape[1]\n",
        "\n",
        "        embedded_sequence = model.embed(ys)\n",
        "        seq_pos_enc = model.positional(tgt_seq_len)\n",
        "        decoder_mask = model.masking(tgt_batch_dim, tgt_seq_len)\n",
        "\n",
        "        decoderInput = embedded_sequence + seq_pos_enc\n",
        "    \n",
        "        out = model.decoderStack(encoderOutput, decoderInput, decoder_mask)\n",
        "\n",
        "        logits = model.generate(out[:, -1, :])\n",
        "        generated_word_id = torch.argmax(logits, dim=-1)\n",
        "\n",
        "        ys = torch.cat((ys, torch.tensor([[generated_word_id.item()]], \n",
        "                                                     dtype=torch.int32, device=DEVICE)), dim=1)\n",
        "\n",
        "        if generated_word_id == stop_token:\n",
        "            break\n",
        "\n",
        "    translation_ids = ys.cpu().numpy()\n",
        "\n",
        "    translation = tokenizer.decode(translation_ids.squeeze())\n",
        "    return translation\n",
        "\n",
        "translation = translate(model=model, source=src, start_token=BOS_IDX, stop_token=EOS_IDX, seq_len=MAX_LEN)\n",
        "english = tokenizer.decode(tgt.to(DEVICE).numpy().squeeze())\n",
        "print(english)\n",
        "print(translation)"
      ]
    },
    {
      "attachments": {},
      "cell_type": "markdown",
      "metadata": {},
      "source": [
        "# Translating a given German sentence:"
      ]
    },
    {
      "cell_type": "code",
      "execution_count": 30,
      "metadata": {
        "colab": {
          "base_uri": "https://localhost:8080/"
        },
        "id": "KR0Q2WoxmlKJ",
        "outputId": "71218bd0-44d7-4792-ba30-79d8c031d728"
      },
      "outputs": [
        {
          "name": "stdout",
          "output_type": "stream",
          "text": [
            "German:  Ein glücklicher Hund spielt mit einem Spielzeug.\n",
            "English:  A happy dog is playing with a toy.\n",
            "Model translation:  A happy dog is playing with a toy .\n"
          ]
        }
      ],
      "source": [
        "english = \"A happy dog is playing with a toy.\"\n",
        "german = \"Ein glücklicher Hund spielt mit einem Spielzeug.\"\n",
        "encoded_german = tokenizer.encode(german)\n",
        "german_id_arr = encoded_german.ids\n",
        "\n",
        "tgt_input = torch.tensor(german_id_arr).unsqueeze(0)\n",
        "\n",
        "translation = translate(model, tgt_input, 2, 3, MAX_LEN)\n",
        "print(\"German: \", german)\n",
        "print(\"English: \", english)\n",
        "print(\"Model translation: \", translation)"
      ]
    }
  ],
  "metadata": {
    "accelerator": "GPU",
    "colab": {
      "provenance": []
    },
    "gpuClass": "standard",
    "kernelspec": {
      "display_name": "base",
      "language": "python",
      "name": "python3"
    },
    "language_info": {
      "codemirror_mode": {
        "name": "ipython",
        "version": 3
      },
      "file_extension": ".py",
      "mimetype": "text/x-python",
      "name": "python",
      "nbconvert_exporter": "python",
      "pygments_lexer": "ipython3",
      "version": "3.9.13"
    },
    "orig_nbformat": 4,
    "vscode": {
      "interpreter": {
        "hash": "6fb3815109fae185a2989dc67116c03680cdd5befd2823d06e43fcf705655cc7"
      }
    }
  },
  "nbformat": 4,
  "nbformat_minor": 0
}
